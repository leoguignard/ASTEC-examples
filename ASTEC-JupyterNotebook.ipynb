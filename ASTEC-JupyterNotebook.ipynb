{
 "cells": [
  {
   "cell_type": "markdown",
   "metadata": {
    "deletable": true,
    "editable": true
   },
   "source": [
<<<<<<< HEAD
    "# Notebook with examples on how to use the lineages from Guignard et al."
=======
    "# Notebook to generate the plots of the article"
>>>>>>> b209aa4fd9392c84b7e4c59190dea6f166c4a6a5
   ]
  },
  {
   "cell_type": "markdown",
   "metadata": {
    "deletable": true,
    "editable": true
   },
   "source": [
    "## Import of the necessary libraries"
   ]
  },
  {
   "cell_type": "code",
   "execution_count": null,
   "metadata": {
<<<<<<< HEAD
    "collapsed": false,
=======
    "collapsed": true,
>>>>>>> b209aa4fd9392c84b7e4c59190dea6f166c4a6a5
    "deletable": true,
    "editable": true
   },
   "outputs": [],
   "source": [
<<<<<<< HEAD
    "import os\n",
    "import cPickle as pkl\n",
    "\n",
    "from useful_functions import (get_symetric_volumes,\n",
    "                              plot_around_div,\n",
    "                              get_life_span,\n",
    "                              compute_neighbors_stability,\n",
    "                              get_ratio_mother_sisters_volume)\n",
    "from colormap import ColorMap\n",
=======
    "%matplotlib inline\n",
    "import os\n",
    "import itertools as it\n",
    "import cPickle as pkl\n",
    "\n",
    "from loading_data import loading_data    \n",
    "from useful_functions import *\n",
>>>>>>> b209aa4fd9392c84b7e4c59190dea6f166c4a6a5
    "\n",
    "from scipy import stats\n",
    "import numpy as np\n",
    "\n",
    "from matplotlib import pyplot as plt\n",
    "from matplotlib.ticker import ScalarFormatter\n",
<<<<<<< HEAD
    "%matplotlib inline"
=======
    "from matplotlib import gridspec"
>>>>>>> b209aa4fd9392c84b7e4c59190dea6f166c4a6a5
   ]
  },
  {
   "cell_type": "markdown",
   "metadata": {
    "deletable": true,
    "editable": true
   },
   "source": [
    "## Loading the data\n",
<<<<<<< HEAD
    "The data are stored in a pickle file (`.pkl`). This pickle file is a dictionary that maps a property name to the dictionary containing this propery:\n",
    "```python\n",
    "properties = {property_name(string): property_dict(dict), ... }\n",
    "```\n",
    "- `\"cell_lineage\"` is the lineage tree as a dictionary that maps a cell id at time $t$ to the `list` of its correspondant cell id(s) at time $t+1$.\n",
    "```python\n",
    "{mother_cell_id(int): [daughter_cell_id_1(int), ...], ...}\n",
    "```\n",
    "- `\"all_cells\"` is the list of all the cell ids\n",
    "- `\"cell_history\"` is a dictionary that maps a cell id to the list of all the cell ids that represent the same cell (ids in time):\n",
    "```python\n",
    "{cell_id(int): [cell_id2(int), cell_id2(int), ...], ...}\n",
    "```\n",
    "- `\"cell_label_in_time\"` maps a time $t$ to the list of cells that exist at that time:\n",
    "```python\n",
    "{time(int): [cell_id1(int), cell_id2(int), ...], ...}\n",
    "```\n",
    "- The other dictionaries map a cell id to its associated values:\n",
    " - `\"cell_name\"` maps the names of the cells as defined by Conklin (after manual correction).\n",
    " - `\"cell_barycenter\"` maps the cell barycenters\n",
    " \n",
    " - `\"cell_fate\"`, `\"cell_fate_2\"` and `\"cell_fate_3\"` represent different fate mapping (`\"cell_fate_3\"` is the one used for this paper).\n",
    " - `\"cell_volume\"` are the volume of the cells in voxels (computed as the sum of voxels inside the segmented cell).\n",
    " - `\"cell_contact_surface\"` are the cell-cell surface of contacts in voxels as a dictionary of dictionaries:\n",
    "```python\n",
    "{cell_id(int): {cell_id(int): area_of_contact(float), ...}, ... }\n",
=======
    "`loading_data` returns the pre-pocessed informations from the ASTEC outputs.\n",
    "- `lin_tree` is the lineage tree as a dictionary that maps a cell id at time $t$ to the `list` of its correspondant cell id(s) at time $t+1$. \n",
    "```python\n",
    "lin_tree = {mother_cell_id(int): [daughter_cell_id_1(int), ...], ...}\n",
    "```\n",
    "- `inv_lin_tree` is the same as `lin_tree` but links $t+1$ to $t$ and since a cell at $t+1$ as one or less antecedent (in case of the first time point) the dictionary links a cell id to a cell id (not a list).\n",
    "```python\n",
    "inv_lin_tree = {daughter_cell_id(int): mother_cell_id(int), ...}\n",
    "```\n",
    "- `ColorMap` is a class that allow to create `matplotlib` color maps from lists. (thanks to [Pierre Fernique](https://team.inria.fr/virtualplants/team-members/pfernique/))\n",
    "- The other outputs are dictionaries that maps a cell id to its associated values:\n",
    " - `fates`, `fates2` and `fates3` represent different fate mapping (`fates3` is the one used for this paper).\n",
    " - `vol` are the volume of the cells in voxels (computed as the sum of voxels inside the segmented cell).\n",
    " - `surfaces` are the suface of the cells. It is computed as the number of outer voxels touching (in a $6-$connected sens) the cell.\n",
    " - `names` are the names of the cells as defined by Conklin (after manual correction).\n",
    " - `surf_ex` are the cell-cell surface of contacts in voxels as a dictionary of dictionaries:\n",
    "```python\n",
    "surf_ex = {cell_id(int): {cell_id(int): area_of_contact(float), ...}, ... }\n",
    "```\n",
    " - `properties` is the dictionary of all the previously described properties plus few others (`properties.keys()` will give the list of available properties)\n",
    "```python\n",
    "properties = {property_names(string): [property_dict(dict), default_value(-)], ... }\n",
>>>>>>> b209aa4fd9392c84b7e4c59190dea6f166c4a6a5
    "```\n",
    "\n",
    "It is worth noticing that the cell id are implemented in a way that it is possible to deduce the time it belongs too and the corresponding label in the image data:\n",
    "- `cell_id = t*10**4 + label`\n",
    "\n",
    "hence:\n",
    "- `label = cell_id%10**4` is the corresonding label in the image\n",
    "- `t = cell_id//10**4` is the corresponding time (note that // is the floor division)\n",
    "\n",
<<<<<<< HEAD
    "__SINCE THE AMOUNT OF DATA IS LARGE, THE LOADING TIME MIGHT TAKE SEVERAL MINUTES__"
=======
    "__SINCE THE AMOUNT OF DATA IS RATHER BIG, THE LOADING TIME MIGHT TAKE SEVERAL MINUTES__"
>>>>>>> b209aa4fd9392c84b7e4c59190dea6f166c4a6a5
   ]
  },
  {
   "cell_type": "code",
   "execution_count": null,
   "metadata": {
<<<<<<< HEAD
    "collapsed": false,
=======
    "collapsed": true,
>>>>>>> b209aa4fd9392c84b7e4c59190dea6f166c4a6a5
    "deletable": true,
    "editable": true
   },
   "outputs": [],
   "source": [
    "path_to_data = './Data/'\n",
    "path_to_figures = './Outputs_figures/'\n",
    "\n",
<<<<<<< HEAD
    "with open(os.path.join(path_to_data, 'Astec-Pm1_properties.pkl')) as f:\n",
    "    properties = pkl.load(f)\n",
    "    f.close()\n",
    "\n",
    "lin_tree = properties['cell_lineage']\n",
    "names = properties['cell_name']\n",
    "fates = properties['cell_fate']\n",
    "fates2 = properties['cell_fate_2']\n",
    "fates3 = properties['cell_fate_3']\n",
    "vol = properties['cell_volume']\n",
    "surf_ex = properties['cell_contact_surface']\n",
    "prob_cells = properties['problematic_cells']\n",
    "\n",
    "# Removing the potential problematic cells\n",
    "for c in prob_cells:\n",
    "    lin_tree.pop(c, None)\n",
    "\n",
    "# Building the inverse lineage tree (daughter cell -> mother cell)\n",
    "inv_lin_tree = {daught: mother for mother, daughters in lin_tree.iteritems() for daught in daughters}\n",
    "\n",
    "# Building the cell surfaces\n",
    "surfaces = {cell:np.sum(neighbors.values()) for cell, neighbors in surf_ex.iteritems()}\n",
    "\n",
    "# Building the compactness metric\n",
    "comp = {cell:vol[cell]**(1/3.)/surfaces[cell]**(1/2.) for cell in vol}"
=======
    "(lin_tree, fates, fates2,\n",
    " fates3, vol, inv_lin_tree,\n",
    " surf_ex, surfaces, names,\n",
    " properties, ColorMap) = loading_data(path_to_data)"
   ]
  },
  {
   "cell_type": "markdown",
   "metadata": {
    "deletable": true,
    "editable": true
   },
   "source": [
    "`ColorMap` is used to build the main color map for the figures based on the differents fates from `fates3`"
   ]
  },
  {
   "cell_type": "code",
   "execution_count": null,
   "metadata": {
    "collapsed": true,
    "deletable": true,
    "editable": true
   },
   "outputs": [],
   "source": [
    "## Building the color map\n",
    "tissue_order = ['Endoderm Head', 'Endodermal Strand 1',\n",
    "                'Endodermal Strand 2', 'Epidermis Head',\n",
    "                'Epidermis Tail', 'Germline',\n",
    "                'Mesoderm Mesenchyme', 'Mesoderm Muscle 1',\n",
    "                'Mesoderm Muscle 2', 'Mesoderm Notochord 1',\n",
    "                'Mesoderm Notochord 2',\n",
    "                'Mesoderm Trunk Lateral Cell',\n",
    "                'Mesoderm Trunk Ventral Cell',\n",
    "                'Neural Plate Head Dorsal',\n",
    "                'Neural Plate Head Ventral',\n",
    "                'Neural Plate Tail Dorsal',\n",
    "                'Neural Plate Tail Lateral',\n",
    "                'Neural Plate Tail Ventral']\n",
    "CMapFates = ColorMap(tissue_order+['undeter'], 'rainbow')"
   ]
  },
  {
   "cell_type": "markdown",
   "metadata": {
    "deletable": true,
    "editable": true
   },
   "source": [
    "# ASTEC results analysis"
   ]
  },
  {
   "cell_type": "code",
   "execution_count": null,
   "metadata": {
    "collapsed": true,
    "deletable": true,
    "editable": true
   },
   "outputs": [],
   "source": [
    "#Creation of the folder where the figures will be outputed\n",
    "p_to_figures = path_to_figures + 'ASTEC_results_analysis/'\n",
    "if not os.path.exists(p_to_figures):\n",
    "    os.makedirs(p_to_figures)"
   ]
  },
  {
   "cell_type": "markdown",
   "metadata": {
    "deletable": true,
    "editable": true
   },
   "source": [
    "## Analysis of the result of the segmentation using MARS-ALT pipeline."
   ]
  },
  {
   "cell_type": "code",
   "execution_count": null,
   "metadata": {
    "collapsed": false,
    "deletable": true,
    "editable": true
   },
   "outputs": [],
   "source": [
    "path = path_to_data + 'Seg_Comparison/'\n",
    "\n",
    "f = open(path + 'dice_scores_new.pkl')\n",
    "[keys, values] = pkl.load(f)\n",
    "f.close()\n",
    "\n",
    "fig = plt.figure(figsize=(12, 8))\n",
    "gs = gridspec.GridSpec(2, 1, height_ratios=[5, 1]) \n",
    "ax = plt.subplot(gs[0])\n",
    "ax2 = plt.subplot(gs[1])\n",
    "\n",
    "keys[0] = max(keys) + 4\n",
    "nb_cells_to_find = 218 # manual ground truth\n",
    "for i, vals in enumerate(values):\n",
    "    TP, OS, US, TP_scores, AC, MC = vals\n",
    "    wrong_shape = np.sum(np.array(TP_scores)<.9)\n",
    "    perfect_S = len(TP) - wrong_shape\n",
    "    Missed_C = len(MC)\n",
    "    Added_C = len(AC)\n",
    "    Over_seg = len(OS)\n",
    "    Merged_C = len(US)\n",
    "    cummul_nb_C = 0\n",
    "    ax.bar(keys[i], perfect_S, bottom=cummul_nb_C, color = 'w',\n",
    "           width = 1.6, alpha = .7, lw = 2, edgecolor='k')\n",
    "    ax2.bar(keys[i], perfect_S, bottom=cummul_nb_C, color = 'w',\n",
    "            width = 1.6, alpha = .7, lw = 2, edgecolor='k')\n",
    "    cummul_nb_C += perfect_S\n",
    "    ax.bar(keys[i], Over_seg, bottom=cummul_nb_C, color = 'b',\n",
    "           width = 1.6, alpha = .7, lw = 2, edgecolor='k')\n",
    "    ax2.bar(keys[i], Over_seg, bottom=cummul_nb_C, color = 'b',\n",
    "            width = 1.6, alpha = .7, lw = 2, edgecolor='k')\n",
    "    cummul_nb_C += Over_seg\n",
    "    ax.bar(keys[i], Merged_C, bottom=cummul_nb_C, color = 'r',\n",
    "           width = 1.6, alpha = .7, lw = 2, edgecolor='k')\n",
    "    ax2.bar(keys[i], Merged_C, bottom=cummul_nb_C, color = 'r',\n",
    "            width = 1.6, alpha = .7, lw = 2, edgecolor='k')\n",
    "    cummul_nb_C += Merged_C\n",
    "    ax.bar(keys[i], Added_C, bottom=cummul_nb_C, color = 'g',\n",
    "           width = 1.6, alpha = .7, lw = 2, edgecolor='k')\n",
    "    ax2.bar(keys[i], Added_C, bottom=cummul_nb_C, color = 'g',\n",
    "            width = 1.6, alpha = .7, lw = 2, edgecolor='k')\n",
    "    cummul_nb_C += Added_C\n",
    "    ax.bar(keys[i], Missed_C, bottom=cummul_nb_C, color = 'purple',\n",
    "           width = 1.6, alpha = .7, lw = 2, edgecolor='k')\n",
    "    ax2.bar(keys[i], Missed_C, bottom=cummul_nb_C, color = 'purple',\n",
    "            width = 1.6, alpha = .7, lw = 2, edgecolor='k')\n",
    "    cummul_nb_C += Missed_C\n",
    "    ax.bar(keys[i], wrong_shape, bottom=cummul_nb_C, color = 'lightblue',\n",
    "           width = 1.6, alpha = .7, lw = 2, edgecolor='k')\n",
    "    ax2.bar(keys[i], wrong_shape, bottom=cummul_nb_C, color = 'lightblue',\n",
    "            width = 1.6, alpha = .7, lw = 2, edgecolor='k')\n",
    "\n",
    "ax2.set_ylim(0, 12)\n",
    "ax.set_ylim(185, 250)\n",
    "ax.spines['bottom'].set_visible(False)\n",
    "ax2.spines['top'].set_visible(False)\n",
    "ax.xaxis.tick_top()\n",
    "ax.tick_params(labeltop='off')  # don't put tick labels at the top\n",
    "ax2.xaxis.tick_bottom()\n",
    "d = .0065  # how big to make the diagonal lines in axes coordinates\n",
    "# arguments to pass plot, just so we don't keep repeating them\n",
    "kwargs = dict(transform=ax.transAxes, color='k', clip_on=False)\n",
    "ax.plot((-d, +d), (0, 0), **kwargs)        # top-left diagonal\n",
    "ax.plot((1-d, 1+d), (0, 0), **kwargs)  # top-right diagonal\n",
    "\n",
    "kwargs.update(transform=ax2.transAxes)  # switch to the bottom axes\n",
    "ax2.plot((-d, +d), (1, 1), **kwargs)        # top-left diagonal\n",
    "ax2.plot((1-d, 1+d), (1, 1), **kwargs)  # top-right diagonal\n",
    "\n",
    "ax.bar(0, -1, label='Correct segmentation',\n",
    "       color = 'w', alpha = .7, lw = 2, edgecolor='k')\n",
    "ax.bar(0, -1, label='Over segmentation ($\\mathbf{E_{s}}+\\mathbf{E_{a}}$)',\n",
    "       color = 'b', alpha = .7, lw = 2, edgecolor='k')\n",
    "ax.bar(0, -1, label='Merged cells ($\\mathbf{E_{me}}$)',\n",
    "       color = 'r', alpha = .7, lw = 2, edgecolor='k')\n",
    "ax.bar(0, -1, label='Missed cells ($\\mathbf{E_{mi}}$)',\n",
    "       color = 'purple', alpha = .7, lw = 2, edgecolor='k')\n",
    "ax.bar(0, -1, label='Shape defect ($\\mathbf{E_{sh}}$)',\n",
    "       color = 'lightblue', alpha = .7, lw = 2, edgecolor='k')\n",
    "ax.plot([-1, 25], [nb_cells_to_find, nb_cells_to_find], 'k--', lw=3, label = 'expected #detected cells')\n",
    "ax.legend(fontsize = 18, ncol=2)\n",
    "ax.tick_params(axis='both', which='major', labelsize=20)\n",
    "ax.set_ylabel('#dected cells', fontsize=30)\n",
    "ax2.set_xlim(3, 23)\n",
    "ax.set_xlim(3, 23)\n",
    "ax2.tick_params(axis='both', which='major', labelsize=20)\n",
    "ax2.set_xticks(sorted(keys))\n",
    "ax2.set_xticklabels(['h=%d'%d for d in keys[1:]] + ['ASTEC'], fontsize = 18)\n",
    "ax2.set_yticks([0, 10])\n",
    "fig.tight_layout()\n",
    "fig.savefig(p_to_figures + 'segmentation_quality_MARS.pdf')"
   ]
  },
  {
   "cell_type": "code",
   "execution_count": null,
   "metadata": {
    "collapsed": false,
    "deletable": true,
    "editable": true
   },
   "outputs": [],
   "source": [
    "fig = plt.figure(figsize=(28, 8))\n",
    "\n",
    "ax_div = fig.add_subplot(1, 3, 1)\n",
    "\n",
    "ax_ls = fig.add_subplot(1, 3, 2)\n",
    "\n",
    "ax_end = fig.add_subplot(1, 3, 3)\n",
    "for h in range(4, 19, 2):\n",
    "    f=open(path + 'lin_tree_h'+str(h)+'_basic.pkl')\n",
    "    lin_tree_tmp=pkl.load(f)\n",
    "    f.close()\n",
    "    divisions = [v for k, v in lin_tree_tmp.iteritems() if len(v) >= 2]\n",
    "    nb_correct_div = len([k for k in divisions if len(k) == 2])\n",
    "    nb_wrong_div = len([k for k in divisions if len(k) > 2])\n",
    "    max_time_mother = max(lin_tree_tmp.keys())/10**4\n",
    "    life_spans = []\n",
    "    end = 0\n",
    "    dont_end = 0\n",
    "    for Ds in divisions:\n",
    "        for di in Ds:\n",
    "            life_span_len = 1\n",
    "            while len(lin_tree_tmp.get(di, [])) == 1:\n",
    "                life_span_len += 1\n",
    "                di = lin_tree_tmp[di][0]\n",
    "            if di//10**4 < 192:\n",
    "                life_spans += [life_span_len]\n",
    "            if not di in lin_tree_tmp and di//10**4 < max_time_mother:\n",
    "                end += 1\n",
    "            else:\n",
    "                dont_end += 1\n",
    "    life_spans = np.array(life_spans)\n",
    "    nb_long_life_spans = np.sum(life_spans >= 5)\n",
    "    nb_short_life_spans = np.sum(life_spans < 5)\n",
    "    \n",
    "    ax_div.bar(h, nb_correct_div, width = 1.6, color = 'w', alpha = .7, lw = 2, edgecolor='k')\n",
    "    ax_div.bar(h, nb_wrong_div, width = 1.6, bottom = nb_correct_div,\n",
    "               color = 'b', alpha = .7, lw = 2, edgecolor='k')\n",
    "    \n",
    "    ax_ls.bar(h, nb_long_life_spans, width = 1.6, color = 'w', alpha = .7, lw = 2, edgecolor='k')\n",
    "    ax_ls.bar(h, nb_short_life_spans, width = 1.6, bottom = nb_long_life_spans,\n",
    "              color = 'b', alpha = .7, lw = 2, edgecolor='k')\n",
    "    \n",
    "    ax_end.bar(h, dont_end, width = 1.6, color = 'w', alpha = .7, lw = 2, edgecolor='k')\n",
    "    ax_end.bar(h, end, width = 1.6, bottom = dont_end,\n",
    "               color = 'b', alpha = .7, lw = 2, edgecolor='k')\n",
    "    \n",
    "ax_div.bar(-5, nb_correct_div, width = 1.6, color = 'w', label = 'Division in two\\ndaughters',\n",
    "           alpha = .7, lw = 2, edgecolor='k')\n",
    "ax_div.bar(-5, nb_wrong_div, width = 1.6, bottom = nb_correct_div, color = 'b',\n",
    "               label = 'Division in more\\nthan two daughters', alpha = .7, lw = 2, edgecolor='k')\n",
    "ax_div.set_ylabel('#Divisions', fontsize = 40)\n",
    "ax_div.set_xticks([])\n",
    "\n",
    "ax_ls.bar(-5, nb_long_life_spans, width = 1.6, color = 'w', label = r'Lifespan $\\geq$ 10 min',\n",
    "          alpha = .7, lw = 2, edgecolor='k')\n",
    "ax_ls.bar(-5, nb_short_life_spans, width = 1.6, bottom = nb_long_life_spans, color = 'b',\n",
    "                  label = r'Lifespan $<$ 10 min', alpha = .7, lw = 2, edgecolor='k')\n",
    "ax_ls.set_ylabel('#Cells', fontsize = 40)\n",
    "ax_ls.set_xticks([])\n",
    "\n",
    "ax_end.bar(-5, dont_end, width = 1.6, color = 'w', label = 'Lineages reaching\\nmovie end',\n",
    "           alpha = .7, lw = 2, edgecolor='k')\n",
    "ax_end.bar(-5, end, width = 1.6, bottom = dont_end, color = 'b', label = 'Interrupted lineages',\n",
    "           alpha = .7, lw = 2, edgecolor='k')\n",
    "ax_end.set_ylabel('#Lineages', fontsize = 40)\n",
    "ax_end.set_xticks([])\n",
    "\n",
    "\n",
    "ax_div.set_xticks(range(4, 19, 2))\n",
    "ax_ls.set_xticks(range(4, 19, 2))\n",
    "ax_end.set_xticks(range(4, 19, 2))\n",
    "ax_div.set_xticklabels(['h=%d'%d for d in range(4, 19, 2)], rotation = 'vertical')\n",
    "ax_ls.set_xticklabels(['h=%d'%d for d in range(4, 19, 2)], rotation = 'vertical')\n",
    "ax_end.set_xticklabels(['h=%d'%d for d in range(4, 19, 2)], rotation = 'vertical')\n",
    "\n",
    "for ax in fig.get_axes():\n",
    "    ax.tick_params(axis='both', which='major', labelsize=30)\n",
    "    ax.legend(fontsize = 25)\n",
    "    ax.set_xlim(3, 19)\n",
    "fig.tight_layout()\n",
    "fig.savefig(p_to_figures + 'lineage_quality_MARS.pdf')"
   ]
  },
  {
   "cell_type": "markdown",
   "metadata": {
    "deletable": true,
    "editable": true
   },
   "source": [
    "## Plot of the distribution of the $h-min$ values that were used to segment the different cells at different time-points.\n",
    "The distribution is splited time windows of size `size` to check the evolution of the parametrization of the algorithm"
   ]
  },
  {
   "cell_type": "code",
   "execution_count": null,
   "metadata": {
    "collapsed": true,
    "deletable": true,
    "editable": true
   },
   "outputs": [],
   "source": [
    "#The h-min informations are contained in the property dictionary\n",
    "h_min_vals = properties['h_mins_information'][0]\n",
    "size=40 #size of the window in time points\n",
    "outputs = []\n",
    "for t in range(2, 181, size):\n",
    "    tmp = np.array([v for k, v in h_min_vals.iteritems() if t<=k//10**4<t+size])\n",
    "    tmp /= 2\n",
    "    outputs.append(list(tmp))"
>>>>>>> b209aa4fd9392c84b7e4c59190dea6f166c4a6a5
   ]
  },
  {
   "cell_type": "code",
   "execution_count": null,
   "metadata": {
    "collapsed": false,
    "deletable": true,
    "editable": true
   },
   "outputs": [],
   "source": [
<<<<<<< HEAD
    "## Building the color map\n",
    "tissue_order = ['Head Endoderm', '1st Endodermal Lineage',\n",
    "                '2nd Endodermal Lineage', 'Head Epidermis',\n",
    "                'Tail Epidermis', 'Germ Line',\n",
    "                'Mesenchyme', '1st Lineage, Tail Muscle',\n",
    "                '2nd Lineage, Tail Muscle', '1st Lineage, Notochord',\n",
    "                '2nd Lineage, Notochord',\n",
    "                'Trunk Lateral Cell',\n",
    "                'Trunk Ventral Cell',\n",
    "                'Anterior Dorsal Neural Plate',\n",
    "                'Anterior Ventral Neural Plate',\n",
    "                'Posterior Dorsal Neural Plate',\n",
    "                'Posterior Lateral Neural Plate',\n",
    "                'Posterior Ventral Neural Plate']\n",
    "CMapFates = ColorMap(tissue_order+['undeter'], 'rainbow')"
=======
    "fig = plt.figure(figsize=(10, 8))\n",
    "ax = fig.add_subplot(111)\n",
    "tmp = ax.hist(outputs, range=(0, 10), bins=10, log=True, normed=True, \n",
    "              label=['['+str(v*2)+', '+str(min((v+size)*2, 180*2))+'[' for v in range(2, 181, size)])\n",
    "\n",
    "ax.set_xticks([0.5]+list(np.arange(2.5, 10.5, 1)))\n",
    "ax.set_xlim(-1, 10)\n",
    "ax.set_xticklabels(['h not found'] + ['h=4', 'h=6', 'h=8', 'h=10', 'h=12', 'h=14', 'h=16', 'h=18'])\n",
    "ax.tick_params(axis='y', which='major', labelsize=15)\n",
    "ax.tick_params(axis='x', which='major', labelsize=15)\n",
    "ax.set_xlabel('h parameter value', fontsize=25)\n",
    "ax.set_ylabel('Frequency of segmented cells (log scale)', fontsize=25)\n",
    "ax.legend(loc='upper left', fontsize=20)\n",
    "fig.tight_layout()\n",
    "fig.savefig(p_to_figures + 'h_min_distrib_hist.pdf')"
   ]
  },
  {
   "cell_type": "markdown",
   "metadata": {
    "deletable": true,
    "editable": true
   },
   "source": [
    "## Comparison of ASTEC segmentation to the manually corrected cells by U.-M. Fiuza\n",
    "### Distribution of the dice scores for every single time point"
   ]
  },
  {
   "cell_type": "code",
   "execution_count": null,
   "metadata": {
    "collapsed": false,
    "deletable": true,
    "editable": true
   },
   "outputs": [],
   "source": [
    "f = open(path_to_data + 'Supp-fig/2D-dice-scores-results.pkl')\n",
    "dice_2D = pkl.load(f)\n",
    "f.close()\n",
    "f.close()\n",
    "valboxp=[]\n",
    "times = dice_2D.keys()\n",
    "times.sort()\n",
    "for t in times:\n",
    "        outputs=[]\n",
    "        for vii in dice_2D[t]:\n",
    "                outputs.extend(vii[-1])\n",
    "        valboxp.append(np.array(outputs)*100)\n",
    "\n",
    "fig=plt.figure(figsize=(8, 10))\n",
    "ax=fig.add_subplot(111)\n",
    "ax.violinplot(valboxp, positions=np.array(times)*2, widths=30)\n",
    "ax.set_ylim(0, 102)\n",
    "for i, vp in enumerate(valboxp):\n",
    "    ax.scatter([times[i]*2]*len(vp), vp, color='k', alpha=.2)\n",
    "ax.set_xlim(-10, 370)\n",
    "ax.set_xticks(list(np.array(times)*2))\n",
    "ax.set_yticks(range(0, 101, 20))\n",
    "ax.tick_params(axis='both', which='major', labelsize=20)\n",
    "ax.set_xlabel('Time [min]', fontsize=30)\n",
    "ax.set_ylabel('% of corresponding pixels', fontsize=30)\n",
    "fig.tight_layout()\n",
    "fig.savefig(p_to_figures + 'correspondance_distrib_by_time.pdf')"
   ]
  },
  {
   "cell_type": "markdown",
   "metadata": {
    "deletable": true,
    "editable": true
   },
   "source": [
    "### Global distribution of the dice-scores"
   ]
  },
  {
   "cell_type": "code",
   "execution_count": null,
   "metadata": {
    "collapsed": false,
    "deletable": true,
    "editable": true
   },
   "outputs": [],
   "source": [
    "outputs=[]\n",
    "for vi in dice_2D.values():\n",
    "    for vii in vi:\n",
    "        outputs.extend(vii[-1])\n",
    "    \n",
    "outputs = 100*np.array(outputs)\n",
    "fig=plt.figure(figsize=(8, 10))\n",
    "ax=fig.add_subplot(111)\n",
    "ax.hist(outputs, bins=100, range=(0, 100))\n",
    "ax.set_xlim(0, 100)\n",
    "ax.set_xlabel('% of cell overlap between\\nASTEC and ground truth', fontsize=30)\n",
    "ax.set_ylabel('# of cells', fontsize=30)\n",
    "ax.tick_params(axis='both', which='major', labelsize=20)\n",
    "fig.tight_layout()\n",
    "fig.savefig(p_to_figures + 'correspondance_distrib_all_black.pdf')"
>>>>>>> b209aa4fd9392c84b7e4c59190dea6f166c4a6a5
   ]
  },
  {
   "cell_type": "markdown",
   "metadata": {
    "deletable": true,
    "editable": true
   },
   "source": [
    "# Morphological attributes of the cells"
   ]
  },
  {
<<<<<<< HEAD
=======
   "cell_type": "code",
   "execution_count": null,
   "metadata": {
    "collapsed": true,
    "deletable": true,
    "editable": true
   },
   "outputs": [],
   "source": [
    "#Creation of the folder where the figures will be outputed\n",
    "p_to_figures = path_to_figures + 'Morphological_attributes_of_the_cells/'\n",
    "if not os.path.exists(p_to_figures):\n",
    "    os.makedirs(p_to_figures)"
   ]
  },
  {
>>>>>>> b209aa4fd9392c84b7e4c59190dea6f166c4a6a5
   "cell_type": "markdown",
   "metadata": {
    "deletable": true,
    "editable": true
   },
   "source": [
    "## Distribution of the evolution of volume before and after the division"
   ]
  },
  {
   "cell_type": "code",
   "execution_count": null,
   "metadata": {
    "collapsed": false,
    "deletable": true,
    "editable": true
   },
   "outputs": [],
   "source": [
    "ratio_daugthers = [get_ratio_mother_sisters_volume(c, vol, lin_tree, inv_lin_tree, 5) \n",
    "                   for c, v in lin_tree.iteritems() if len(v) == 2]\n",
    "fig = plt.figure(figsize=(10, 8))\n",
    "ax = fig.add_subplot(111)\n",
    "ax.hist(ratio_daugthers, bins=30)\n",
    "ax.set_xscale('log')\n",
    "ax.set_xlim(np.min(ratio_daugthers), np.max(ratio_daugthers))\n",
    "ax.plot([0.98, 0.98], [0, 150], 'r--', lw=2, label='+/- 2% volume change')\n",
    "ax.plot([1.02, 1.02], [0, 150], 'r--', lw=2)\n",
    "ax.set_ylim(0, 120)\n",
    "ax.legend(fontsize=18)\n",
    "ax.tick_params(axis='both', which='major', labelsize=20)\n",
    "ax.xaxis.set_major_formatter(ScalarFormatter())\n",
    "ax.set_xticks([.95, 1, 1.05])\n",
    "ax.set_xlabel(r'Ratio $\\frac{\\mathbf{S}_1 + \\mathbf{S}_2}{\\mathbf{Mother}}$ (log scale)', fontsize=30)\n",
    "ax.set_ylabel('# couple mother/daughters', fontsize=30)\n",
<<<<<<< HEAD
    "fig.tight_layout()"
=======
    "fig.tight_layout()\n",
    "fig.savefig(p_to_figures + 'volume_ratio_sister_mother.pdf')"
>>>>>>> b209aa4fd9392c84b7e4c59190dea6f166c4a6a5
   ]
  },
  {
   "cell_type": "markdown",
   "metadata": {
    "deletable": true,
    "editable": true
   },
   "source": [
    "## Left/Right comparison of cell volumes"
   ]
  },
  {
   "cell_type": "code",
   "execution_count": null,
   "metadata": {
    "collapsed": false,
    "deletable": true,
    "editable": true
   },
   "outputs": [],
   "source": [
<<<<<<< HEAD
    "mother_cells = [c for c, v in inv_lin_tree.iteritems() if len(lin_tree[v]) == 2 and c in names]\n",
=======
    "mother_cells = [c for c, v in inv_lin_tree.iteritems() if len(lin_tree[v]) == 2]\n",
>>>>>>> b209aa4fd9392c84b7e4c59190dea6f166c4a6a5
    "couples = []\n",
    "for c in mother_cells:\n",
    "    if names[c][-1]=='*':\n",
    "        for ci in mother_cells:\n",
    "            if names[c][:-1]==names[ci][:-1] and c!=ci:\n",
    "                couples.append((c, ci))\n",
    "\n",
    "X = []\n",
    "Y = []\n",
    "C = []\n",
    "for cs in couples:\n",
    "    x, y = get_symetric_volumes(cs, vol, lin_tree)\n",
    "    X.append(x*.3**3)\n",
    "    Y.append(y*.3**3)\n",
    "    C.append(cs[0])\n",
    "                \n",
    "\n",
    "fig = plt.figure(figsize=(10, 8))\n",
    "ax = fig.add_subplot(111)\n",
<<<<<<< HEAD
    "ax.set_yscale('log')\n",
    "ax.set_xscale('log')\n",
=======
>>>>>>> b209aa4fd9392c84b7e4c59190dea6f166c4a6a5
    "for c, x, y in zip(C, X, Y):\n",
    "    ax.plot(x, y, 'o', color = CMapFates(fates3.get(c, 'undeter')), alpha=.5)\n",
    "\n",
    "slope, intercept, r_value, p_value, std_err = stats.linregress(X, Y)\n",
    "ax.plot([100, 10**5], [slope*100+intercept, slope*10**5+intercept], 'k-', lw=3, alpha=.5,\n",
    "        label=r'Linear regression: $y=%10.1f.x+(%10.1f)$'%(slope,+intercept))\n",
    "\n",
<<<<<<< HEAD
    "ax.plot([100, 10**5], [100, 10**5], 'r-', label=r'$y=x$')\n",
    "ax.plot([100, 10**5], [0.75*100, 0.75*10**5], 'r--', label='+/- 25%')\n",
    "ax.plot([100, 10**5], [(1/0.75)*100, (1/0.75)*10**5], 'r--')\n",
    "ax.set_xlim(200, 10000)\n",
    "ax.set_ylim(200, 10000)\n",
=======
    "ax.set_yscale('log')\n",
    "ax.set_xscale('log')\n",
    "ax.plot([100, 10**5], [100, 10**5], 'r-', label=r'$y=x$')\n",
    "ax.plot([100, 10**5], [0.75*100, 0.75*10**5], 'r--', label='+/- 25%')\n",
    "ax.plot([100, 10**5], [(1/0.75)*100, (1/0.75)*10**5], 'r--')\n",
    "ax.set_xlim(np.min(X+Y)-100, np.max(X+Y)+10000)\n",
    "ax.set_ylim(np.min(X+Y)-100, np.max(X+Y)+10000)\n",
>>>>>>> b209aa4fd9392c84b7e4c59190dea6f166c4a6a5
    "ax.legend(loc='upper left', fontsize=15)\n",
    "ax.set_xlabel(r'Right cells volume ($\\mu m^3$, log scale)', fontsize=30)\n",
    "ax.set_ylabel(r'Left cells volume ($\\mu m^3$, log scale)', fontsize=30)\n",
    "ax.tick_params(axis='both', which='major', labelsize=20)\n",
<<<<<<< HEAD
    "fig.tight_layout()"
=======
    "fig.tight_layout()\n",
    "fig.savefig(p_to_figures + 'volume_ratio_left_right.pdf')"
>>>>>>> b209aa4fd9392c84b7e4c59190dea6f166c4a6a5
   ]
  },
  {
   "cell_type": "markdown",
   "metadata": {
    "deletable": true,
    "editable": true
   },
   "source": [
    "## Cell compactness around division events"
   ]
  },
  {
   "cell_type": "code",
   "execution_count": null,
   "metadata": {
    "collapsed": false,
    "deletable": true,
    "editable": true
   },
   "outputs": [],
   "source": [
<<<<<<< HEAD
    "interest_cells = [c for c, v in lin_tree.iteritems() if (len(v) == 2\n",
    "                                                         and ('8.' in names.get(c, '') or '9.' in names.get(c, '')))]\n",
    "plot_around_div(comp, lin_tree, inv_lin_tree, interest_cells, names, col=1, row=2, ylim=(0.35, 0.45),\n",
    "                x_label='Time [min]', y_label='Compactness', around=5)"
=======
    "comp = properties['compactness'][0]\n",
    "interest_cells = [c for c, v in lin_tree.iteritems() if len(v) == 2 and ('8.' in names[c] or '9.' in names[c])]\n",
    "plot_around_div(comp, lin_tree, inv_lin_tree, interest_cells, names, col=1, row=2, ylim=(0.35, 0.5),\n",
    "                saving_folder=p_to_figures, x_label='Time [min]', y_label='Compactness', around=5)"
>>>>>>> b209aa4fd9392c84b7e4c59190dea6f166c4a6a5
   ]
  },
  {
   "cell_type": "code",
   "execution_count": null,
   "metadata": {
    "collapsed": false,
    "deletable": true,
    "editable": true
   },
   "outputs": [],
   "source": [
<<<<<<< HEAD
    "interest_cells = [c for c, v in lin_tree.iteritems() if len(v) == 2 and ('7.' in names.get(c, '') or\n",
    "                                                                         '8.' in names.get(c, '') or\n",
    "                                                                         '9.' in names.get(c, '') or\n",
    "                                                                         '10.' in names.get(c, ''))]\n",
    "plot_around_div(comp, lin_tree, inv_lin_tree, interest_cells, names, col=2, row=2, ylim=(0.35, 0.47),\n",
    "                x_label='Time [min]', y_label='Compactness', around=5,\n",
=======
    "comp = properties['compactness'][0]\n",
    "interest_cells = [c for c, v in lin_tree.iteritems() if len(v) == 2 and ('7.' in names[c] or\n",
    "                                                                         '8.' in names[c] or\n",
    "                                                                         '9.' in names[c] or\n",
    "                                                                         '10.' in names[c])]\n",
    "plot_around_div(comp, lin_tree, inv_lin_tree, interest_cells, names, col=2, row=2, ylim=(0.35, 0.5),\n",
    "                saving_folder=p_to_figures, x_label='Time [min]', y_label='Compactness', around=5,\n",
>>>>>>> b209aa4fd9392c84b7e4c59190dea6f166c4a6a5
    "                z_c_range = (7, 11), add_title='_supp', legend_pos=1, ncol=1)"
   ]
  },
  {
   "cell_type": "code",
   "execution_count": null,
   "metadata": {
    "collapsed": false,
    "deletable": true,
    "editable": true
   },
   "outputs": [],
   "source": [
    "\n",
    "COMBINE_Epi_Neur = True ## True to combine epithelial layers, False to split them in Neural and Epidermal\n",
    "\n",
<<<<<<< HEAD
    "mother_cells = [c for c, v in inv_lin_tree.iteritems() if len(lin_tree[v]) == 2 and c in names]\n",
=======
    "mother_cells = [c for c, v in inv_lin_tree.iteritems() if len(lin_tree[v]) == 2]\n",
>>>>>>> b209aa4fd9392c84b7e4c59190dea6f166c4a6a5
    "couples = []\n",
    "for c in mother_cells:\n",
    "    if names[c][-1]=='*':\n",
    "        for ci in mother_cells:\n",
    "            if names[c][:-1]==names[ci][:-1] and c!=ci:\n",
    "                couples.append((c, ci))\n",
    "\n",
    "volumes = []\n",
    "life_span = []\n",
    "C = []\n",
    "for cs in couples:\n",
    "    ctmp = cs[0]\n",
    "    while len(lin_tree.get(ctmp, [])) == 1:\n",
    "        ctmp = lin_tree[ctmp][0]\n",
    "    t_tmp = ctmp//10**4\n",
    "    ctmp = cs[1]\n",
    "    while len(lin_tree.get(ctmp, [])) == 1:\n",
    "        ctmp = lin_tree[ctmp][0]\n",
    "    t_tmp = max(ctmp//10**4, t_tmp)\n",
    "    if t_tmp < 180:\n",
    "        x, y = get_symetric_volumes(cs, vol, lin_tree)\n",
    "        volumes.append((np.mean([x, y])*.3**3))\n",
    "        life_span += [np.mean(get_life_span(cs, lin_tree))*2]\n",
    "        C.append(cs[0])\n",
    "\n",
    "fig = plt.figure(figsize=(10, 6))\n",
    "ax = fig.add_subplot(111)\n",
    "X1, Y1, X2, Y2, X3, Y3 = [], [], [], [], [], []\n",
    "for c, x, y in zip(C, volumes, life_span):\n",
<<<<<<< HEAD
    "    if \"Neural\" in fates2.get(c, 'undeter'):\n",
    "        X1 += [np.log10(x)]\n",
    "        Y1 += [np.log10(y)]\n",
    "        ax.plot(np.log10(x), np.log10(y), 'co', )\n",
    "    elif \"Epider\" in fates2.get(c, 'undeter'):\n",
    "        X2 += [np.log10(x)]\n",
    "        Y2 += [np.log10(y)]\n",
    "        ax.plot(np.log10(x), np.log10(y), 'mo')\n",
    "    elif \"Mesoderm\" in fates2.get(c, 'undeter'):\n",
=======
    "    if \"Neural\" in fates3.get(c, 'undeter'):\n",
    "        X1 += [np.log10(x)]\n",
    "        Y1 += [np.log10(y)]\n",
    "        ax.plot(np.log10(x), np.log10(y), 'co', )\n",
    "    elif \"Epider\" in fates3.get(c, 'undeter'):\n",
    "        X2 += [np.log10(x)]\n",
    "        Y2 += [np.log10(y)]\n",
    "        ax.plot(np.log10(x), np.log10(y), 'mo')\n",
    "    elif \"Mesoderm\" in fates3.get(c, 'undeter'):\n",
>>>>>>> b209aa4fd9392c84b7e4c59190dea6f166c4a6a5
    "        X3 += [np.log10(x)]\n",
    "        Y3 += [np.log10(y)]\n",
    "        ax.plot(np.log10(x), np.log10(y), 'ro')\n",
    "\n",
    "ax.plot(-1, -1, 'ro', label = 'Mesodermal cells')\n",
    "ax.plot(-1, -1, 'mo', label = 'Epidermal cells')\n",
    "ax.plot(-1, -1, 'co', label = 'Neural cells')\n",
    "\n",
    "if COMBINE_Epi_Neur:\n",
    "    slope, intercept, r_value, p_value, std_err = stats.linregress(X1+X2, Y1+Y2)\n",
    "    ax.plot([2, 5], [slope*(2)+intercept, slope*5+intercept], 'k-', lw=3, alpha = .5)\n",
    "    a1, b1 = slope, 10**intercept\n",
    "else:\n",
    "    slope, intercept, r_value, p_value, std_err = stats.linregress(X1, Y1)\n",
    "    ax.plot([2, 5], [slope*(2)+intercept, slope*5+intercept], 'c-', lw=3, alpha = .5)\n",
    "    a1, b1 = slope, 10**intercept\n",
    "\n",
    "    slope, intercept, r_value, p_value, std_err = stats.linregress(X2, Y2)\n",
    "    ax.plot([2, 5], [slope*(2)+intercept, slope*5+intercept], 'm-', lw=3, alpha = .5)\n",
    "    a2, b2 = slope, 10**intercept\n",
    "\n",
    "\n",
    "slope, intercept, r_value, p_value, std_err = stats.linregress(X3, Y3)\n",
    "ax.plot([2, 5], [slope*(2)+intercept, slope*5+intercept], 'r-', lw=3, alpha = .5)\n",
    "a3, b3 = slope, 10**intercept\n",
    "\n",
    "ax.set_ylim((1.65, 2.4))\n",
<<<<<<< HEAD
    "ax.set_xlim((np.log10(200), np.log10(10000)))\n",
    "ax.set_xticks(np.log10([300, 1000, 3000, 1e4]))\n",
    "ax.set_xticklabels([300, 1000, 3000, 1e4])\n",
=======
    "ax.set_xlim((3, np.log10(45000)))\n",
    "ax.set_xticks(np.log10([2e3, 1e4, 40000]))\n",
    "ax.set_xticklabels([2e3, 1e4, 40000])\n",
>>>>>>> b209aa4fd9392c84b7e4c59190dea6f166c4a6a5
    "ax.set_yticks(np.log10([50, 100, 200]))\n",
    "ax.set_yticklabels([50, 100, 200])\n",
    "ax.set_xlabel(r'L/R average volume [$\\mu m^3$]', fontsize=35)\n",
    "ax.set_ylabel('L/R average\\nlifespan [min]', fontsize=35)\n",
    "ax.tick_params(axis='both', which='major', labelsize=30)\n",
<<<<<<< HEAD
    "fig.tight_layout()"
=======
    "fig.tight_layout()\n",
    "fig.savefig(p_to_figures + 'volume_vs_lifespan.pdf')"
>>>>>>> b209aa4fd9392c84b7e4c59190dea6f166c4a6a5
   ]
  },
  {
   "cell_type": "code",
   "execution_count": null,
   "metadata": {
    "collapsed": false,
    "deletable": true,
    "editable": true
   },
   "outputs": [],
   "source": [
<<<<<<< HEAD
    "mother_cells = [c for c, v in inv_lin_tree.iteritems() if len(lin_tree[v]) == 2 and c in names]\n",
=======
    "mother_cells = [c for c, v in inv_lin_tree.iteritems() if len(lin_tree[v]) == 2]\n",
>>>>>>> b209aa4fd9392c84b7e4c59190dea6f166c4a6a5
    "couples = []\n",
    "for c in mother_cells:\n",
    "    if names[c][-1]=='*':\n",
    "        for ci in mother_cells:\n",
    "            if names[c][:-1]==names[ci][:-1] and c!=ci:\n",
    "                couples.append((c, ci))\n",
    "\n",
    "volumes = []\n",
    "life_span = []\n",
    "C = []\n",
    "for cs in couples:\n",
    "    ctmp = cs[0]\n",
    "    while len(lin_tree.get(ctmp, [])) == 1:\n",
    "        ctmp = lin_tree[ctmp][0]\n",
    "    t_tmp = ctmp//10**4\n",
    "    ctmp = cs[1]\n",
    "    while len(lin_tree.get(ctmp, [])) == 1:\n",
    "        ctmp = lin_tree[ctmp][0]\n",
    "    t_tmp = max(ctmp//10**4, t_tmp)\n",
    "    if t_tmp < 180:\n",
    "        x, y = get_symetric_volumes(cs, vol, lin_tree)\n",
    "        volumes.append((np.mean([x, y])*.3**3))\n",
    "        life_span += [np.mean(get_life_span(cs, lin_tree))*2]\n",
    "        C.append(cs[0])\n",
    "\n",
    "fig = plt.figure(figsize=(10, 6))\n",
    "ax = fig.add_subplot(111)\n",
    "X1, Y1, X2, Y2 = [], [], [], []\n",
    "for c, x, y in zip(C, volumes, life_span):\n",
<<<<<<< HEAD
    "    if \"Neural\" in fates2.get(c, 'undeter'):\n",
    "        X1 += [(x)]\n",
    "        Y1 += [(y)]\n",
    "        ax.plot((x), (y), 'co', )\n",
    "    elif \"Epider\" in fates2.get(c, 'undeter'):\n",
    "        X1 += [(x)]\n",
    "        Y1 += [(y)]\n",
    "        ax.plot((x), (y), 'mo')\n",
    "    elif \"Mesoderm\" in fates2.get(c, 'undeter'):\n",
=======
    "    if \"Neural\" in fates3.get(c, 'undeter'):\n",
    "        X1 += [(x)]\n",
    "        Y1 += [(y)]\n",
    "        ax.plot((x), (y), 'co', )\n",
    "    elif \"Epider\" in fates3.get(c, 'undeter'):\n",
    "        X1 += [(x)]\n",
    "        Y1 += [(y)]\n",
    "        ax.plot((x), (y), 'mo')\n",
    "    elif \"Mesoderm\" in fates3.get(c, 'undeter'):\n",
>>>>>>> b209aa4fd9392c84b7e4c59190dea6f166c4a6a5
    "        X2 += [(x)]\n",
    "        Y2 += [(y)]\n",
    "        ax.plot((x), (y), 'ro')\n",
    "\n",
    "min_X = min(X1 + X2 + X3)\n",
    "if COMBINE_Epi_Neur:\n",
    "    X = np.arange(min_X, 30000, 2)\n",
    "    Y = b1*X**a1\n",
    "    ax.plot(X, Y, 'k-', lw = 3, alpha = .8)\n",
    "else:\n",
    "    X = np.arange(min_X, 30000, 2)\n",
    "    Y = b1*X**a1\n",
    "    ax.plot(X, Y, 'c-', lw = 3, alpha = .8)\n",
    "\n",
    "    X = np.arange(min_X, 30000, 2)\n",
    "    Y = b2*X**a2\n",
    "    ax.plot(X, Y, 'm-', lw = 3, alpha = .8)\n",
    "\n",
    "X = np.arange(min_X, 30000, 2)\n",
    "Y = b3*X**a3\n",
    "ax.plot(X, Y, 'r-', lw = 3, alpha = .8)\n",
    "ax.set_ylim((10**1.65, 200))\n",
<<<<<<< HEAD
    "ax.set_xlim((200, 6000))\n",
    "ax.set_xlabel(r'L/R average volume [$\\mu m^3$]', fontsize=35)\n",
    "ax.set_ylabel('L/R average\\nlifespan [min]', fontsize=35)\n",
    "ax.tick_params(axis='both', which='major', labelsize=30)\n",
    "fig.tight_layout()"
=======
    "ax.set_xlim((10**3, 22000))\n",
    "ax.set_xlabel(r'L/R average volume [$\\mu m^3$]', fontsize=35)\n",
    "ax.set_ylabel('L/R average\\nlifespan [min]', fontsize=35)\n",
    "ax.tick_params(axis='both', which='major', labelsize=30)\n",
    "fig.tight_layout()\n",
    "fig.savefig(p_to_figures + 'volume_vs_lifespan_no_log.pdf')"
>>>>>>> b209aa4fd9392c84b7e4c59190dea6f166c4a6a5
   ]
  },
  {
   "cell_type": "code",
   "execution_count": null,
   "metadata": {
    "collapsed": false,
    "deletable": true,
    "editable": true
   },
   "outputs": [],
   "source": [
<<<<<<< HEAD
=======
    "fig = plt.figure(figsize=(19, 3))\n",
    "ax_legend = fig.add_subplot(111)\n",
    "for f in tissue_order+['undeter']:\n",
    "    ax_legend.plot([], 'o', markeredgecolor = CMapFates(fates3.get(c, 'undeter')), \n",
    "                   color=CMapFates(f), label=f, lw=3)\n",
    "ax_legend.legend(ncol = 4, fontsize = 15)\n",
    "ax_legend.spines['top'].set_visible(False)\n",
    "ax_legend.spines['right'].set_visible(False)\n",
    "ax_legend.spines['bottom'].set_visible(False)\n",
    "ax_legend.spines['left'].set_visible(False)\n",
    "# ax_legend.xaxis.tick_top()\n",
    "ax_legend.tick_params(labelleft='off')  # don't put tick labels at the top\n",
    "ax_legend.tick_params(labelbottom='off')  # don't put tick labels at the top\n",
    "fig.savefig(p_to_figures + 'colormap.pdf')"
   ]
  },
  {
   "cell_type": "code",
   "execution_count": null,
   "metadata": {
    "collapsed": true,
    "deletable": true,
    "editable": true
   },
   "outputs": [],
   "source": [
>>>>>>> b209aa4fd9392c84b7e4c59190dea6f166c4a6a5
    "cells_epidermis = [c for c in lin_tree.iterkeys() if (len(lin_tree.get(inv_lin_tree.get(c, -1), [])) == 2 and\n",
    "                                            \"Epider\" in fates3.get(c, ''))]\n",
    "cells_mesendo = [c for c in lin_tree.iterkeys() if (len(lin_tree.get(inv_lin_tree.get(c, -1), [])) == 2 and\n",
    "                                                    c in fates3 and not \"Epider\" in fates3[c] and\n",
    "                                                    not \"Germ\" in fates3[c] and\n",
    "                                                    not \"Neural\" in fates3[c])]\n",
    "\n",
    "cells_NP = [c for c in lin_tree.iterkeys() if (len(lin_tree.get(inv_lin_tree.get(c, -1), [])) == 2 and\n",
    "                                               \"Neural\" in fates3.get(c, ''))]\n",
    "\n",
    "\n",
    "cell_cycles_epidermis = []\n",
    "for c in cells_epidermis:\n",
    "    c_cycle = [c]\n",
    "    while len(lin_tree.get(c_cycle[-1], [])) == 1:\n",
    "        c_cycle += lin_tree[c_cycle[-1]]\n",
    "    if c_cycle[-1]/10**4 < 180:\n",
    "        cell_cycles_epidermis.append(c_cycle)\n",
    "        \n",
    "cell_cycles_mesendo = []\n",
    "for c in cells_mesendo:\n",
    "    c_cycle = [c]\n",
    "    while len(lin_tree.get(c_cycle[-1], [])) == 1:\n",
    "        c_cycle += lin_tree[c_cycle[-1]]\n",
    "    if c_cycle[-1]/10**4 < 180:\n",
    "        cell_cycles_mesendo.append(c_cycle)\n",
    "        \n",
    "cell_cycles_NP = []\n",
    "for c in cells_NP:\n",
    "    c_cycle = [c]\n",
    "    while len(lin_tree.get(c_cycle[-1], [])) == 1:\n",
    "        c_cycle += lin_tree[c_cycle[-1]]\n",
    "    if c_cycle[-1]/10**4 < 180:\n",
    "        cell_cycles_NP.append(c_cycle)\n",
    "        \n",
    "\n",
    "        \n",
    "v1_epidermis = []\n",
    "v2_epidermis = []\n",
    "v1_mesendo = []\n",
    "v2_mesendo = []\n",
    "v1_NP = []\n",
    "v2_NP = []\n",
    "for c in cell_cycles_epidermis:\n",
    "    v1, v2 = compute_neighbors_stability(c, lin_tree, surf_ex, fates3, surfaces, inv_lin_tree,\n",
    "                                         th_presence = .1, th = .03, smoothing_percentage = .2)\n",
    "    v1_epidermis.append(v1)\n",
    "    v2_epidermis.append(v2)\n",
    "\n",
    "for c in cell_cycles_mesendo:\n",
    "    v1, v2 = compute_neighbors_stability(c, lin_tree, surf_ex, fates3, surfaces, inv_lin_tree,\n",
    "                                         th_presence = .1, th = .03, smoothing_percentage = .2)\n",
    "    v1_mesendo.append(v1)\n",
    "    v2_mesendo.append(v2)\n",
    "\n",
    "    \n",
    "for c in cell_cycles_NP:\n",
    "    v1, v2 = compute_neighbors_stability(c, lin_tree, surf_ex, fates3, surfaces, inv_lin_tree,\n",
    "                                         th_presence = .1, th = .03, smoothing_percentage = .2)\n",
    "    v1_NP.append(v1)\n",
    "    v2_NP.append(v2)\n"
   ]
  },
  {
   "cell_type": "code",
   "execution_count": null,
   "metadata": {
    "collapsed": false,
    "deletable": true,
    "editable": true
   },
   "outputs": [],
   "source": [
    "fig = plt.figure(figsize = (10, 8))\n",
    "ax1 = fig.add_subplot(311)\n",
    "ax2 = fig.add_subplot(312)\n",
    "ax3 = fig.add_subplot(313)\n",
    "\n",
    "nb_bins = max(v1_epidermis+v1_mesendo+v1_NP)+1\n",
    "\n",
    "ax1.hist(100*np.array(v2_epidermis), bins = 10, range=(0, 100), alpha = .7)\n",
    "ax2.hist(100*np.array(v2_mesendo), bins = 10, range=(0, 100), alpha = .7)\n",
    "ax3.hist(100*np.array(v2_NP), bins = 10, range=(0, 100), alpha = .7)\n",
    "\n",
    "ax1.set_title('Epidermal cells', fontsize=30)\n",
    "ax1.set_ylabel('# cells', fontsize=30)\n",
    "ax1.tick_params(axis='both', which='major', labelsize=20)\n",
    "\n",
    "ax2.set_title('Mesendodermal cells', fontsize=30)\n",
    "ax2.set_ylabel('# cells', fontsize=30)\n",
    "ax2.tick_params(axis='both', which='major', labelsize=20)\n",
    "\n",
    "ax3.set_title('Neural cells', fontsize=30)\n",
    "ax3.set_xlabel('% of lost neighbors', fontsize=30)\n",
    "ax3.tick_params(axis='both', which='major', labelsize=20)\n",
    "ax3.set_ylabel('# cells', fontsize=30)\n",
<<<<<<< HEAD
    "fig.tight_layout()"
   ]
=======
    "fig.tight_layout()\n",
    "plt.savefig(p_to_figures + 'Lost-contact.pdf')"
   ]
  },
  {
   "cell_type": "markdown",
   "metadata": {
    "deletable": true,
    "editable": true
   },
   "source": [
    "# Comparison between ASTEC and Faure et al. lineage trees"
   ]
  },
  {
   "cell_type": "code",
   "execution_count": null,
   "metadata": {
    "collapsed": true,
    "deletable": true,
    "editable": true
   },
   "outputs": [],
   "source": [
    "#Creation of the folder where the figures will be outputed\n",
    "p_to_figures = path_to_figures + 'ASTEC_vs_Faure/'\n",
    "if not os.path.exists(p_to_figures):\n",
    "    os.makedirs(p_to_figures)"
   ]
  },
  {
   "cell_type": "markdown",
   "metadata": {
    "deletable": true,
    "editable": true
   },
   "source": [
    "## Specific data loading\n",
    "Those data contains the croped and rescaled lineage trees from Faure et al. and ASTEC so their time-resolution and development coverage are similar"
   ]
  },
  {
   "cell_type": "code",
   "execution_count": null,
   "metadata": {
    "collapsed": true,
    "deletable": true,
    "editable": true
   },
   "outputs": [],
   "source": [
    "f=open(path_to_data + 'Comparison_to_Faure_et_al/lin_trees.pkl')\n",
    "datas=pkl.load(f)\n",
    "f.close()\n",
    "\n",
    "names_em=datas['names_em']\n",
    "names_ASTEC=datas['names']\n",
    "\n",
    "\n",
    "## As described in the paper the naming is an issue\n",
    "## Therefore we have to manually adjust the names\n",
    "names_to_change=[('a8.0011', 'a8.0012')]\n",
    "for n1, n2 in names_to_change:\n",
    "    t_c1=[c for c in lin_tree.keys() if n1 in names[c]]\n",
    "    t_c2=[c for c in lin_tree.keys() if n2 in names[c]]\n",
    "    for c in t_c1:\n",
    "        names_ASTEC[c]=n2+names_ASTEC[c][-1]\n",
    "    for c in t_c2:\n",
    "        names_ASTEC[c]=n1+names_ASTEC[c][-1]\n",
    "\n",
    "\n",
    "f=open(path_to_data + 'Comparison_to_Faure_et_al/crossed_scores.pkl')\n",
    "crossed_scores, Faure_scores, ASTEC_scores=pkl.load(f)\n",
    "f.close()"
   ]
  },
  {
   "cell_type": "markdown",
   "metadata": {
    "deletable": true,
    "editable": true
   },
   "source": [
    "## Plot of the bilateral and overall pairwise lineage distances for ASTEC"
   ]
  },
  {
   "cell_type": "code",
   "execution_count": null,
   "metadata": {
    "collapsed": false,
    "deletable": true,
    "editable": true
   },
   "outputs": [],
   "source": [
    "comp_trees_same_ASTEC={}\n",
    "for c1, c2, v in ASTEC_scores:\n",
    "    if (names_ASTEC[c1][:-1]==names_ASTEC[c2][:-1]):\n",
    "        comp_trees_same_ASTEC[c1]=v    \n",
    "    \n",
    "fig = plt.figure(figsize=(10,8))\n",
    "ax = fig.add_subplot(111)\n",
    "X, Y = get_x_y(comp_trees_same_ASTEC.values(), bins=40, range=(0,.8), normed=True)\n",
    "ax.plot(X, Y, 'c-', lw=3, label='Bilateral cell-pairs')\n",
    "ax.fill_between(X, Y, color='c', alpha=.2)\n",
    "\n",
    "X, Y = get_x_y(ASTEC_scores, bins=40, range=(0,.8), normed=True)\n",
    "ax.plot(X, Y, 'm--', lw=3, label='Global distribution')\n",
    "ax.fill_between(X, Y, color='m', alpha=.2)\n",
    "\n",
    "mean_g = np.mean(comp_trees_same_ASTEC.values())\n",
    "median_g = np.median(comp_trees_same_ASTEC.values())\n",
    "ax.plot([mean_g, mean_g], [0, 15], 'r--', lw=3, \n",
    "        label='Mean of the distribution = '+str(np.around(mean_g, 3)))\n",
    "ax.plot([median_g, median_g], [0, 15], 'r-.', lw=3, \n",
    "        label='Median of the distribution = '+str(np.around(median_g, 3)))\n",
    "ax.set_xlim((0,0.8))\n",
    "ax.set_ylim((0,15))\n",
    "ax.set_ylabel('Frequency of pairwise distances', fontsize=30)\n",
    "ax.set_xlabel('Pairwise lineage tree distance', fontsize=30)\n",
    "ax.legend(fontsize=15)\n",
    "ax.tick_params(axis='both', which='major', labelsize=20)\n",
    "ax.set_title('ASTEC lineage tree distances', fontsize = 30)\n",
    "fig.tight_layout()\n",
    "fig.savefig(p_to_figures + 'cell_lin_tree_scores_ASTEC.pdf')"
   ]
  },
  {
   "cell_type": "markdown",
   "metadata": {
    "deletable": true,
    "editable": true
   },
   "source": [
    "## Plot of the bilateral and overall pairwise lineage distances for Faure et al."
   ]
  },
  {
   "cell_type": "code",
   "execution_count": null,
   "metadata": {
    "collapsed": false,
    "deletable": true,
    "editable": true
   },
   "outputs": [],
   "source": [
    "comp_trees_same_F={}\n",
    "for c1, c2, v in Faure_scores:\n",
    "    if (names_em[c1][:-1]==names_em[c2][:-1]):\n",
    "        comp_trees_same_F[c1]=v\n",
    "\n",
    "fig=plt.figure(figsize=(10,8))\n",
    "ax=fig.add_subplot(111)\n",
    "X, Y=get_x_y(comp_trees_same_F.values(), bins=40, range=(0,.8), normed=True)\n",
    "ax.plot(X, Y, 'c-', lw=3, label='Bilateral cell-pairs')\n",
    "ax.fill_between(X, Y, color='c', alpha=.2)\n",
    "\n",
    "X, Y=get_x_y(Faure_scores, bins=40, range=(0,.8), normed=True)\n",
    "ax.plot(X, Y, 'm--', lw=3, label='Global distribution')\n",
    "ax.fill_between(X, Y, color='m', alpha=.2)\n",
    "\n",
    "mean_g=np.mean(comp_trees_same_F.values())\n",
    "median_g=np.median(comp_trees_same_F.values())\n",
    "ax.plot([mean_g, mean_g], [0, 15], 'r--', lw=3, \n",
    "        label='Mean of the distribution = '+str(np.around(mean_g, 3)))\n",
    "ax.plot([median_g, median_g], [0, 15], 'r-.', lw=3, \n",
    "        label='Median of the distribution = '+str(np.around(median_g, 3)))\n",
    "ax.set_xlim((0,0.8))\n",
    "ax.set_ylim((0,15))\n",
    "ax.set_ylabel('Frequency of pairwise distances', fontsize=30)\n",
    "ax.set_xlabel('Pairwise lineage tree distance', fontsize=30)\n",
    "ax.legend(fontsize=15)\n",
    "ax.tick_params(axis='both', which='major', labelsize=20)\n",
    "ax.set_title('Faure et al. lineage tree distances', fontsize = 30)\n",
    "fig.tight_layout()\n",
    "fig.savefig(p_to_figures + 'cell_lin_tree_scores_faure_et_al.pdf')"
   ]
  },
  {
   "cell_type": "markdown",
   "metadata": {
    "deletable": true,
    "editable": true
   },
   "source": [
    "## Plot of the bilateral and overall pairwise lineage distances for Faure et al."
   ]
  },
  {
   "cell_type": "code",
   "execution_count": null,
   "metadata": {
    "collapsed": false,
    "deletable": true,
    "editable": true
   },
   "outputs": [],
   "source": [
    "comp_trees_same_all={}\n",
    "tmp = {}\n",
    "for c1, c2, v in crossed_scores:\n",
    "    if (names_ASTEC[c1][:-1]==names_em[c2][:-1] and \n",
    "        (v < comp_trees_same_all.get(c1, np.inf) and\n",
    "         v < comp_trees_same_all.get(c2, np.inf))): \n",
    "        comp_trees_same_all[c1]=v\n",
    "                \n",
    "fig=plt.figure(figsize=(10,8))\n",
    "ax=fig.add_subplot(111)\n",
    "\n",
    "X, Y=get_x_y(comp_trees_same_all.values(), bins=40, range=(0,.8), normed=True)\n",
    "ax.plot(X, Y, 'k-', lw=3, label='Paired cell comparison')\n",
    "ax.fill_between(X, Y, color='k', alpha=.2)\n",
    "\n",
    "X, Y=get_x_y(crossed_scores, bins=40, range=(0,.8), normed=True)\n",
    "ax.plot(X, Y, 'k-.', lw=3, label='Total')\n",
    "# ax.fill_between(X, Y, color='m', alpha=.2)\n",
    "\n",
    "ax.set_xlim((0,0.8))\n",
    "ax.set_ylim((0,15))\n",
    "mean_vs=np.mean(comp_trees_same_all.values())\n",
    "median_vs=np.median(comp_trees_same_all.values())\n",
    "ax.plot([mean_vs, mean_vs], [0, 15], 'r--', lw=3, \n",
    "        label='Mean of the distribution = '+str(np.around(mean_vs, 3)))\n",
    "ax.plot([median_vs, median_vs], [0, 15], 'r-.', lw=3, \n",
    "        label='Median of the distribution = '+str(np.around(median_vs, 3)))\n",
    "ax.legend(fontsize=15)\n",
    "ax.set_ylabel('Frequency of pairwise distances', fontsize=30)\n",
    "ax.set_xlabel('Pairwise lineage tree distance', fontsize=30)\n",
    "ax.tick_params(axis='both', which='major', labelsize=20)\n",
    "ax.set_title('Faure et al. vs ASTEC', fontsize = 30)\n",
    "fig.tight_layout()\n",
    "fig.savefig(p_to_figures + 'cell_lin_tree_scores_faure_et_al_vs_ASTEC.pdf')\n",
    "plt.show()\n"
   ]
  },
  {
   "cell_type": "markdown",
   "metadata": {
    "deletable": true,
    "editable": true
   },
   "source": [
    "# Pairwise comparison between lineage trees\n",
    "This part plot the pairwise distances between the different lineages of ASTEC result gathering them by L/R symmetry or fate."
   ]
  },
  {
   "cell_type": "code",
   "execution_count": null,
   "metadata": {
    "collapsed": true,
    "deletable": true,
    "editable": true
   },
   "outputs": [],
   "source": [
    "#Creation of the folder where the figures will be outputed\n",
    "p_to_figures = path_to_figures + 'lin_comparison/'\n",
    "if not os.path.exists(p_to_figures):\n",
    "    os.makedirs(p_to_figures)\n",
    "    \n",
    "#Loading of the lineage tree distances\n",
    "f=open(path_to_data+'sim_LR.pkl')\n",
    "tree_distances=pkl.load(f)\n",
    "f.close()\n",
    "\n",
    "starting_time=2\n",
    "tree_distances={(2*10**4+k[0], 2*10**4+k[1]):v \n",
    "                for k, v in tree_distances}\n",
    "\n",
    "def compare_fates(k1, k2, f, f1, f2=''):\n",
    "    \"\"\" Check whether two given cells fates names contains a two given string\n",
    "        according to a given fate dictionary\n",
    "        Args:\n",
    "            k1(int): cell id of the first cell\n",
    "            k2(int): cell id of the second cell\n",
    "            f(dict): dictionary containing the fate informations\n",
    "            f1(string): first fate name\n",
    "            f2(string): second fate name\n",
    "        Returns:\n",
    "            (bool): True if k1 and k2 belongs to f1 and f2 (regardless of the order)\n",
    "    \"\"\"\n",
    "    if f2=='': f2=f1\n",
    "    return ((f1 in f.get(k1, '') and\n",
    "             f2 in f.get(k2, '')) or\n",
    "            (f2 in f.get(k1, '') and\n",
    "             f1 in f.get(k2, '')))"
   ]
  },
  {
   "cell_type": "markdown",
   "metadata": {
    "deletable": true,
    "editable": true
   },
   "source": [
    "## Computation of the different interesting distributions (that are all subset of the global distribution)"
   ]
  },
  {
   "cell_type": "code",
   "execution_count": null,
   "metadata": {
    "collapsed": true,
    "deletable": true,
    "editable": true
   },
   "outputs": [],
   "source": [
    "f_pp=fates3 #All the fate considered come from the fates3 dictionary\n",
    "\n",
    "#Pairwise distances for couple of cells that:\n",
    "not_same = {}                      # have different fate names\n",
    "tree_distance_identical_fate={}    # have identical fate names\n",
    "tree_distance_Epi_Epi={}           # have fate names that contains the string 'Epidermis'\n",
    "tree_distance_Neuro_Neuro={}       # have fate names that contains the string 'Neural'\n",
    "tree_distance_Epi_Endo={}          # are Neural or Epidermis\n",
    "tree_distance_Epi_Meso={}          # are Mesodermal or Epidermis\n",
    "tree_distance_Epi_NP={}            # are Epidermis or Neural\n",
    "tree_distance_Endo_Meso={}         # are Endodermal or Mesendodermal\n",
    "tree_distance_Endo_NP={}           # are Endodermal or Neural\n",
    "tree_distance_Meso_NP={}           # are Mesodermal\n",
    "tree_distance_similar_fate={}\n",
    "tree_distance_less_similar_fate={}\n",
    "tree_distance_diff_fate={}\n",
    "tree_distance_bilat={}\n",
    "tree_distance_with_gl={}\n",
    "tree_distance_unknown={}\n",
    "\n",
    "for k, v in tree_distances.iteritems():\n",
    "    if names[k[0]][:-1]==names[k[1]][:-1]:\n",
    "        tree_distance_bilat[(k[0], k[1])]=v\n",
    "    elif f_pp.get(k[0], '0')==f_pp.get(k[1], '1'):\n",
    "        tree_distance_identical_fate[(k[0], k[1])]=v\n",
    "        if 'Epidermis' in f_pp.get(k[0], '0'):\n",
    "            tree_distance_Epi_Epi[(k[0], k[1])]=v\n",
    "        elif 'Neural' in f_pp.get(k[0], '0'):\n",
    "            tree_distance_Neuro_Neuro[(k[0], k[1])]=v\n",
    "    elif (compare_fates(k[0], k[1], f_pp, 'Endoderm') or\n",
    "          compare_fates(k[0], k[1], f_pp, 'Epidermis') or\n",
    "          compare_fates(k[0], k[1], f_pp, 'Neural Plate') or\n",
    "          compare_fates(k[0], k[1], f_pp, 'Mesoderm')):\n",
    "          tree_distance_similar_fate[(k[0], k[1])]=v\n",
    "    elif compare_fates(k[0], k[1], f_pp, 'Epidermis', 'Endoderm'):\n",
    "        tree_distance_Epi_Endo[(k[0], k[1])]=v\n",
    "    elif compare_fates(k[0], k[1], f_pp, 'Epidermis', 'Mesoderm'):\n",
    "        tree_distance_Epi_Meso[(k[0], k[1])]=v\n",
    "    elif compare_fates(k[0], k[1], f_pp, 'Epidermis', 'Neural Plate'):\n",
    "        tree_distance_Epi_NP[(k[0], k[1])]=v\n",
    "    elif compare_fates(k[0], k[1], f_pp, 'Endoderm', 'Mesoderm'):\n",
    "        tree_distance_Endo_Meso[(k[0], k[1])]=v\n",
    "    elif compare_fates(k[0], k[1], f_pp, 'Endoderm', 'Neural Plate'):\n",
    "        tree_distance_Endo_NP[(k[0], k[1])]=v\n",
    "    elif compare_fates(k[0], k[1], f_pp, 'Neural Plate', 'Mesoderm'):\n",
    "        tree_distance_Meso_NP[(k[0], k[1])]=v\n",
    "    elif (fates3.get(k[0], '')=='Germline' or\n",
    "          fates3.get(k[1], '')=='Germline'):\n",
    "        tree_distance_with_gl[(k[0], k[1])]=v\n",
    "    elif (fates3.get(k[0], '')=='' or\n",
    "          fates3.get(k[1], '')==''):\n",
    "        tree_distance_unknown[(k[0], k[1])]=v\n",
    "    if not f_pp.get(k[0], '0')==f_pp.get(k[1], '1'):\n",
    "        not_same[(k[0], k[1])]=v\n",
    "    tree_distance_diff_fate[(k[0], k[1])]=v\n",
    "      "
   ]
  },
  {
   "cell_type": "code",
   "execution_count": null,
   "metadata": {
    "collapsed": false,
    "deletable": true,
    "editable": true
   },
   "outputs": [],
   "source": [
    "bins=40\n",
    "range_hist=(0, 0.8)\n",
    "i=0\n",
    "grey=np.array([.1,.1,.1])\n",
    "cmap_c=ColorMap(range(7), 'jet')\n",
    "fig=plt.figure(figsize=(15, 10))\n",
    "ax=fig.add_subplot(111)\n",
    "X, Y = get_x_y(tree_distance_bilat.values(), bins, range_hist, normed=False)\n",
    "ax.plot(X, Y, 'k-', lw=3, \n",
    "        label='Bilateral cell pairs (mean: ' +str(np.around(np.mean(tree_distance_bilat.values()), 3))+')')\n",
    "ax.fill_between(X, Y, color='k', alpha=.5, label='Bilateral cell pairs')\n",
    "\n",
    "X, Y = get_x_y(tree_distance_identical_fate.values(), bins, range_hist, normed=False)\n",
    "ax.plot(X, Y, 'k--', lw=3, \n",
    "        label='Identical tissue fate (mean: ' +str(np.around(np.mean(tree_distance_identical_fate.values()), 3))+')')\n",
    "ax.fill_between(X, Y, color='k', alpha=.2)\n",
    "\n",
    "X, Y=get_x_y(not_same.values(), bins, range_hist, normed=False)\n",
    "ax.plot(X, Y, 'k-.', lw=3, \n",
    "        label='Different tissue fates (mean: ' +str(np.around(np.mean(not_same.values()), 3))+')')\n",
    "#ax.fill_between(X, Y, color=grey, alpha=.2)\n",
    "\n",
    "ax.set_ylim(0, 120)\n",
    "ax.set_xlim(0, .8)\n",
    "ax.set_ylabel('Count', fontsize=30)\n",
    "ax.set_xlabel('Tree distance', fontsize=30)\n",
    "ax.legend(fontsize=15)\n",
    "ax.tick_params(axis='both', which='major', labelsize=20)\n",
    "fig.tight_layout()\n",
    "fig.savefig(p_to_figures + '/lin_tree_distances.pdf')"
   ]
  },
  {
   "cell_type": "code",
   "execution_count": null,
   "metadata": {
    "collapsed": false,
    "deletable": true,
    "editable": true,
    "scrolled": true
   },
   "outputs": [],
   "source": [
    "tmp = [tree_distance_Epi_Endo,\n",
    "        tree_distance_Epi_Meso,\n",
    "        tree_distance_Epi_NP,\n",
    "        tree_distance_Endo_Meso,\n",
    "        tree_distance_Endo_NP,\n",
    "        tree_distance_Meso_NP,\n",
    "        tree_distance_with_gl,\n",
    "        tree_distance_unknown,\n",
    "        tree_distance_Neuro_Neuro,\n",
    "        tree_distance_Epi_Epi]\n",
    "\n",
    "tmp_names = [\n",
    "    'Epidermis vs Endoderm',\n",
    "    'Epidermis vs Mesoderm',\n",
    "    'Epidermis vs Neural Plate',\n",
    "    'Endoderm vs Mesoderm',\n",
    "    'Endoderm vs Neural Plate',\n",
    "    'Mesoderm vs Neural Plate',\n",
    "    'Germ Line vs the rest',\n",
    "    'Undertermined cells vs the rest',\n",
    "    'Neural plate vs Neural plate',\n",
    "    'Epidermis vs Epidermis'\n",
    "]\n",
    "\n",
    "for v, n in zip(tmp, tmp_names):\n",
    "    bins = 40\n",
    "    range_hist = (0, 0.8)\n",
    "    i = 0\n",
    "    grey=np.array([.1,.1,.1])\n",
    "    cmap_c=ColorMap(range(7), 'jet')\n",
    "    fig=plt.figure(figsize=(15, 10))\n",
    "    ax=fig.add_subplot(111)\n",
    "    X, Y=get_x_y(tree_distance_bilat.values(), bins, range_hist, normed = False)\n",
    "    ax.plot(X, Y, 'k-', lw=3, label='Bilateral')\n",
    "    ax.fill_between(X, Y, color='k', alpha=.5, label='Bilateral')\n",
    "\n",
    "    X, Y = get_x_y(tree_distance_identical_fate.values(), bins, range_hist, normed = False)\n",
    "    ax.plot(X, Y, 'k--', lw=3, label='Similar fates')\n",
    "    ax.fill_between(X, Y, color='k', alpha=.2)\n",
    "\n",
    "    X, Y = get_x_y(tree_distance_diff_fate.values(), bins, range_hist, normed = False)\n",
    "    ax.plot(X, Y, 'k-.', lw=3, label='Total')\n",
    "    #ax.fill_between(X, Y, color=grey, alpha=.2)\n",
    "\n",
    "    X, Y=get_x_y(v.values(), bins, range_hist)\n",
    "    ax.plot(X, Y, 'r-', lw=3, label=n)\n",
    "    ax.fill_between(X, Y, color='r', alpha=.2)\n",
    "\n",
    "    \n",
    "    ax.set_ylim(0, 120)\n",
    "    ax.set_xlim(0, .8)\n",
    "    ax.set_ylabel('Count', fontsize=30)\n",
    "    ax.set_xlabel('Tree distance', fontsize=30)\n",
    "    ax.legend(fontsize=15)\n",
    "    ax.tick_params(axis='both', which='major', labelsize=20)\n",
    "    ax.set_title(n, fontsize=30)\n",
    "    fig.tight_layout()\n",
    "    fig.savefig(p_to_figures + '/lin_tree_distances_'+n+'.pdf')\n"
   ]
  },
  {
   "cell_type": "code",
   "execution_count": null,
   "metadata": {
    "collapsed": false,
    "deletable": true,
    "editable": true
   },
   "outputs": [],
   "source": [
    "bins = 40\n",
    "range_hist = (0, 0.8)\n",
    "i = 0\n",
    "grey=np.array([.1,.1,.1])\n",
    "cmap_c=ColorMap(range(7), 'jet')\n",
    "fig=plt.figure(figsize=(10, 8))\n",
    "ax=fig.add_subplot(111)\n",
    "X, Y=get_x_y(tree_distance_bilat.values(), bins, range_hist, normed = False)\n",
    "ax.plot(X, Y, 'k-', lw=3, label='Bilateral')\n",
    "ax.fill_between(X, Y, color='k', alpha=.5)\n",
    "\n",
    "X, Y = get_x_y(tree_distance_diff_fate.values(), bins, range_hist, normed = False)\n",
    "ax.plot(X, Y, 'k-.', lw=3, label='Total')\n",
    "#ax.fill_between(X, Y, color=grey, alpha=.2)\n",
    "\n",
    "X, Y=get_x_y(tree_distance_Epi_Endo.values(), bins, range_hist)\n",
    "ax.plot(X, Y, 'c-', lw=3, label='Epidermis vs Endoderm')\n",
    "ax.fill_between(X, Y, color='c', alpha=.2)\n",
    "\n",
    "X, Y=get_x_y(tree_distance_Epi_Epi.values(), bins, range_hist)\n",
    "ax.plot(X, Y, 'm-', lw=3, label='Epidermis vs Epidermis')\n",
    "ax.fill_between(X, Y, color='m', alpha=.2)\n",
    "\n",
    "\n",
    "ax.set_ylim(0, 120)\n",
    "ax.set_xlim(0, .8)\n",
    "ax.set_ylabel('#pairwise distances', fontsize=30)\n",
    "ax.set_xlabel('Pairwise lineage tree distance', fontsize=30)\n",
    "ax.legend(fontsize=20, ncol = 2)\n",
    "ax.tick_params(axis='both', which='major', labelsize=20)\n",
    "# ax.set_title(n, fontsize=30)\n",
    "fig.tight_layout()\n",
    "fig.savefig(p_to_figures + '/lin_tree_distances_epi_endo_both.pdf')"
   ]
  },
  {
   "cell_type": "code",
   "execution_count": null,
   "metadata": {
    "collapsed": false,
    "deletable": true,
    "editable": true
   },
   "outputs": [],
   "source": [
    "c_fates = {}\n",
    "for c1 in lin_tree:\n",
    "    c_fates[short_name(names[c1])] = fates3.get(c1, 'undeter')\n",
    "\n",
    "epi_epi_F = [c[2] for c in Faure_scores if ('Epi' in c_fates[short_name(names_em[c[0]])] and\n",
    "                                            'Epi' in c_fates[short_name(names_em[c[1]])])]\n",
    "\n",
    "epi_endo_F = [c[2] for c in Faure_scores if (('Epi' in c_fates[short_name(names_em[c[0]])] and\n",
    "                                              'Endo' in c_fates[short_name(names_em[c[1]])]) or \n",
    "                                             ('Endo' in c_fates[short_name(names_em[c[0]])] and\n",
    "                                              'Epi' in c_fates[short_name(names_em[c[1]])]))]\n",
    "    \n",
    "fig = plt.figure(figsize=(15, 7))\n",
    "ax = fig.add_subplot(111)\n",
    "\n",
    "ax.boxplot([[c[2] for c in ASTEC_scores],\n",
    "            tree_distance_Epi_Epi.values(),\n",
    "            tree_distance_Epi_Endo.values(),\n",
    "            comp_trees_same_ASTEC.values(),\n",
    "            [c[2] for c in Faure_scores],\n",
    "            comp_trees_same_F.values(),\n",
    "            [c[2] for c in crossed_scores],\n",
    "            comp_trees_same_all.values(),])\n",
    "labels = ['Within\\nembryo',\n",
    "          'Within\\ntissue\\n(Epi)',\n",
    "          'Between\\ntissues\\n(Epi/Endo)',\n",
    "          'L/R cells', 'Within\\nembryo', 'L/R cells',\n",
    "          'All cells',\n",
    "          'L/R cells',]\n",
    "ax.set_ylim(-0.01, .8)\n",
    "ax.set_yticks(np.arange(0, .61, .1))\n",
    "ax.set_yticklabels(range(0, 61, 10))\n",
    "ax.set_xlim(0.5, len(labels)+.5)\n",
    "ax.set_ylabel('Pairwise lineage\\ntree distance', fontsize=30)\n",
    "ax.set_xlabel('', fontsize=30)\n",
    "ax.set_xticks(range(1, len(labels)+1))\n",
    "ax.set_xticklabels(labels, rotation='vertical')\n",
    "\n",
    "ax.tick_params(axis='both', which='major', labelsize=20)\n",
    "ax.tick_params(axis='x', which='major', labelsize=25)\n",
    "fig.tight_layout()\n",
    "fig.savefig(p_to_figures + '/hist_distance_distribution.pdf')"
   ]
  },
  {
   "cell_type": "markdown",
   "metadata": {
    "deletable": true,
    "editable": true
   },
   "source": [
    "## Volume, lifespan and neighborhood comparison"
   ]
  },
  {
   "cell_type": "code",
   "execution_count": null,
   "metadata": {
    "collapsed": true,
    "deletable": true,
    "editable": true
   },
   "outputs": [],
   "source": [
    "#Creation of the folder where the figures will be outputed\n",
    "p_to_figures = path_to_figures + 'dev-similarity/'\n",
    "if not os.path.exists(p_to_figures):\n",
    "    os.makedirs(p_to_figures)"
   ]
  },
  {
   "cell_type": "markdown",
   "metadata": {
    "deletable": true,
    "editable": true
   },
   "source": [
    "### Loading of special data\n",
    "This dataset has been produced and analyse by other persons in the project (B.L. and J.L.) so only the processed version is available"
   ]
  },
  {
   "cell_type": "code",
   "execution_count": null,
   "metadata": {
    "collapsed": true,
    "deletable": true,
    "editable": true
   },
   "outputs": [],
   "source": [
    "f = open(path_to_data + 'Comparison-ASTEC1-2/PanelC/Relative_Variation_Lifespan_A1_LeftRight_ASTEC.pkl')\n",
    "LS_A1_LR = sorted(pkl.load(f))\n",
    "f.close()\n",
    "\n",
    "f = open(path_to_data + 'Comparison-ASTEC1-2/PanelC/Relative_Variation_Lifespan_A2_LeftRight_ASTEC.pkl')\n",
    "LS_A2_LR = sorted(pkl.load(f))\n",
    "f.close()\n",
    "\n",
    "f = open(path_to_data + 'Comparison-ASTEC1-2/PanelC/Relative_Variation_Lifespan_A1_A2_ASTEC.pkl')\n",
    "LS_A1_A2 = sorted(pkl.load(f))\n",
    "f.close()\n",
    "\n",
    "f = open(path_to_data + 'Comparison-ASTEC1-2/AllCells_SameGen/' +\n",
    "         'Relative_Variation_Lifespan_A1_AllCells_ASTEC.pkl')\n",
    "LS_A1_all = sorted(pkl.load(f))\n",
    "f.close()\n",
    "\n",
    "f = open(path_to_data + 'Comparison-ASTEC1-2/AllCells_SameGen/' + \n",
    "         'Relative_Variation_Lifespan_A2_AllCells_ASTEC.pkl')\n",
    "LS_A2_all = sorted(pkl.load(f))\n",
    "f.close()\n",
    "\n",
    "f = open(path_to_data + 'Comparison-ASTEC1-2/AllCells_SameGen/' +\n",
    "         'Relative_Variation_Lifespan_A1A2_AllCells_ASTEC.pkl')\n",
    "LS_A1_A2_all = sorted(pkl.load(f))\n",
    "f.close()\n",
    "\n",
    "f = open(path_to_data + 'Comparison-ASTEC1-2/PanelE/x_axis_80_perc_panelE.pkl')\n",
    "X_cons_N_80 = pkl.load(f)\n",
    "f.close()\n",
    "f = open(path_to_data + 'Comparison-ASTEC1-2/PanelE/y_axis_80_perc_panelE.pkl')\n",
    "Y_cons_N_80 = pkl.load(f)[:-1]\n",
    "f.close()\n",
    "\n",
    "f = open(path_to_data + 'Comparison-ASTEC1-2/PanelE/x_axis_50_perc_panelE.pkl')\n",
    "X_cons_N_50 = pkl.load(f)\n",
    "f.close()\n",
    "f = open(path_to_data + 'Comparison-ASTEC1-2/PanelE/y_axis_50_perc_panelE.pkl')\n",
    "Y_cons_N_50 = pkl.load(f)[:-1]\n",
    "f.close()\n",
    "f = open(path_to_data + 'Comparison-ASTEC1-2/PanelD/Relative_Variation_Volume_A1_LeftRight_ASTEC.pkl')\n",
    "V_A1_LR = sorted(pkl.load(f))\n",
    "f.close()\n",
    "\n",
    "f = open(path_to_data + 'Comparison-ASTEC1-2/PanelD/Relative_Variation_Volume_A2_LeftRight_ASTEC.pkl')\n",
    "V_A2_LR = sorted(pkl.load(f))\n",
    "f.close()\n",
    "\n",
    "f = open(path_to_data + 'Comparison-ASTEC1-2/PanelD/Relative_Variation_Volume_A1_A2_ASTEC.pkl')\n",
    "V_A1_A2 = sorted(pkl.load(f))\n",
    "f.close()\n",
    "\n",
    "f = open(path_to_data + 'Comparison-ASTEC1-2/AllCells_SameGen/' +\n",
    "         'Relative_Variation_Volume_A1_AllCells_ASTEC_same_gen.pkl')\n",
    "V_A1_all = sorted(pkl.load(f))\n",
    "f.close()\n",
    "\n",
    "f = open(path_to_data + 'Comparison-ASTEC1-2/AllCells_SameGen/' +\n",
    "         'Relative_Variation_Volume_A2_AllCells_ASTEC_same_gen.pkl')\n",
    "V_A2_all = sorted(pkl.load(f))\n",
    "f.close()\n",
    "\n",
    "f = open(path_to_data + 'Comparison-ASTEC1-2/AllCells_SameGen/' +\n",
    "         'Relative_Variation_Volume_A1A2_AllCells_ASTEC_same_gen.pkl')\n",
    "V_A1_A2_all = sorted(pkl.load(f))\n",
    "f.close()\n",
    "\n",
    "f = open(path_to_data + 'Comparison-ASTEC1-2/PanelA/timerange_A1.pkl')\n",
    "X_nb_c_A1 = pkl.load(f)\n",
    "f.close()\n",
    "f = open(path_to_data + 'Comparison-ASTEC1-2/PanelA/time_evol_A1.pkl')\n",
    "Y_nb_c_A1 = pkl.load(f)\n",
    "f.close()\n",
    "\n",
    "f = open(path_to_data + 'Comparison-ASTEC1-2/PanelA/timerange_A2.pkl')\n",
    "X_nb_c_A2 = pkl.load(f)\n",
    "f.close()\n",
    "f = open(path_to_data + 'Comparison-ASTEC1-2/PanelA/time_evol_A2.pkl')\n",
    "Y_nb_c_A2 = pkl.load(f)\n",
    "f.close()\n",
    "\n",
    "f = open(path_to_data + 'Comparison-ASTEC1-2/PanelA/timerange_BioEm.pkl')\n",
    "X_nb_c_B = pkl.load(f)\n",
    "f.close()\n",
    "f = open(path_to_data + 'Comparison-ASTEC1-2/PanelA/time_evol_BioEm.pkl')\n",
    "Y_nb_c_B = pkl.load(f)\n",
    "f.close()\n",
    "\n",
    "def plot_hist_cum(ax, vals, chars, color, label, lw=3, alpha=.7):\n",
    "    Y = 100*(np.arange(len(vals), dtype=np.float)/len(vals))\n",
    "    ax.plot(vals, Y, chars, color = color, lw=lw, alpha=alpha, label=label)\n",
    "\n",
    "color_cycle = ['#1f77b4', '#ff7f0e', '#2ca02c', '#d62728',\n",
    "               '#9467bd', '#8c564b', '#e377c2', '#7f7f7f',\n",
    "               '#bcbd22', '#17becf']\n"
   ]
  },
  {
   "cell_type": "code",
   "execution_count": null,
   "metadata": {
    "collapsed": false,
    "deletable": true,
    "editable": true
   },
   "outputs": [],
   "source": [
    "fig = plt.figure(figsize=(10, 8))\n",
    "ax = fig.add_subplot(111)\n",
    "\n",
    "plot_hist_cum(ax, LS_A1_LR, '-', color=color_cycle[0], label=r'$ASTEC_1$ L/R')\n",
    "\n",
    "plot_hist_cum(ax, LS_A2_LR, '-', color=color_cycle[1], label=r'$ASTEC_2$ L/R')\n",
    "\n",
    "plot_hist_cum(ax, LS_A1_A2, '-', color=color_cycle[2], label=r'$ASTEC_1$ vs $ASTEC_2$')\n",
    "plot_hist_cum(ax, LS_A1_A2_all, '--', color=color_cycle[2], label=r'$ASTEC_1$ vs $ASTEC_2$ all')\n",
    "\n",
    "ax.plot([0, 1], [100, 100], 'k--', lw=3, alpha=.5)\n",
    "\n",
    "ax.set_xlim(0, max(LS_A1_A2 + LS_A1_LR + LS_A2_LR))\n",
    "ax.set_ylim(0, 105)\n",
    "ax.legend(fontsize=25)\n",
    "ax.tick_params(axis='both', labelsize=25)\n",
    "ax.set_xlabel('Relative change of lifespan', fontsize=30)\n",
    "ax.set_ylabel('Percentage of cells', fontsize=30)\n",
    "fig.tight_layout()\n",
    "fig.savefig(p_to_figures + 'relative-change-lifespan.pdf')"
   ]
  },
  {
   "cell_type": "code",
   "execution_count": null,
   "metadata": {
    "collapsed": false,
    "deletable": true,
    "editable": true
   },
   "outputs": [],
   "source": [
    "fig = plt.figure(figsize=(10, 8))\n",
    "ax = fig.add_subplot(111)\n",
    "\n",
    "bp = ax.boxplot([LS_A1_LR, LS_A2_LR, LS_A1_A2, LS_A1_A2_all], sym='')\n",
    "ax.set_xticks(range(1, 5))\n",
    "ax.set_xticklabels([r'$ASTEC_1$ L/R', r'$ASTEC_2$ L/R',\n",
    "                    r'$ASTEC_1$ vs' + '\\n' + r'$ASTEC_2$ L/R',\n",
    "                    r'$ASTEC_1$ vs' + '\\n' + r'$ASTEC_2$ all'], rotation='vertical')\n",
    "\n",
    "ax.tick_params(axis='both', labelsize=25)\n",
    "ax.set_ylabel('Relative change of lifespan', fontsize=30)\n",
    "fig.tight_layout()\n",
    "fig.savefig(p_to_figures + 'relative-change-lifespan-boxplot.pdf')"
   ]
  },
  {
   "cell_type": "code",
   "execution_count": null,
   "metadata": {
    "collapsed": false,
    "deletable": true,
    "editable": true
   },
   "outputs": [],
   "source": [
    "fig = plt.figure(figsize=(10, 8))\n",
    "ax = fig.add_subplot(111)\n",
    "\n",
    "plot_hist_cum(ax, V_A1_LR, '-', color=color_cycle[0], label=r'$ASTEC_1$ L/R')\n",
    "\n",
    "plot_hist_cum(ax, V_A2_LR, '-', color=color_cycle[1], label=r'$ASTEC_2$ L/R')\n",
    "\n",
    "plot_hist_cum(ax, V_A1_A2, '-', color=color_cycle[2], label=r'$ASTEC_1$ vs $ASTEC_2$')\n",
    "plot_hist_cum(ax, V_A1_A2_all, '--', color=color_cycle[2], label=r'$ASTEC_1$ vs $ASTEC_2$ all')\n",
    "\n",
    "ax.plot([0, 1], [100, 100], 'k--', lw=3, alpha=.5)\n",
    "ax.set_xlim(0, max(V_A1_A2 + V_A1_LR + V_A2_LR))\n",
    "ax.set_ylim(0, 105)\n",
    "ax.legend(fontsize=25)\n",
    "ax.tick_params(axis='both', labelsize=25)\n",
    "ax.set_xlabel('Relative change of volume', fontsize=30)\n",
    "ax.set_ylabel('Percentage of cells', fontsize=30)\n",
    "fig.tight_layout()\n",
    "fig.savefig(p_to_figures + 'relative-change-volume.pdf')"
   ]
  },
  {
   "cell_type": "code",
   "execution_count": null,
   "metadata": {
    "collapsed": false,
    "deletable": true,
    "editable": true
   },
   "outputs": [],
   "source": [
    "fig = plt.figure(figsize=(10, 8))\n",
    "ax = fig.add_subplot(111)\n",
    "\n",
    "bp = ax.boxplot([V_A1_LR, V_A2_LR, V_A1_A2, V_A1_A2_all], sym='')\n",
    "ax.set_xticks(range(1, 5))\n",
    "ax.set_xticklabels([r'$ASTEC_1$ L/R', r'$ASTEC_2$ L/R',\n",
    "                    r'$ASTEC_1$ vs' + '\\n' + r'$ASTEC_2$ L/R',\n",
    "                    r'$ASTEC_1$ vs' + '\\n' + r'$ASTEC_2$ all'], rotation='vertical')\n",
    "\n",
    "ax.tick_params(axis='both', labelsize=25)\n",
    "ax.set_ylabel('Relative change of volume', fontsize=30)\n",
    "fig.tight_layout()\n",
    "fig.savefig(p_to_figures + 'relative-change-volume-boxplot.pdf')"
   ]
  },
  {
   "cell_type": "code",
   "execution_count": null,
   "metadata": {
    "collapsed": false,
    "deletable": true,
    "editable": true
   },
   "outputs": [],
   "source": [
    "fig = plt.figure(figsize=(10, 8))\n",
    "ax = fig.add_subplot(111)\n",
    "\n",
    "ax.plot(X_nb_c_A1, Y_nb_c_A1, '-.', lw=4, alpha=.8, color=color_cycle[0], label=r'$ASTEC_1$')\n",
    "ax.plot(X_nb_c_A1[0], Y_nb_c_A1[0], 'o', ms=15, alpha=.8, color=color_cycle[0])\n",
    "ax.plot(X_nb_c_A1[-1], Y_nb_c_A1[-1], 'o', ms=15, alpha=.8, color=color_cycle[0])\n",
    "\n",
    "ax.plot(X_nb_c_A2, Y_nb_c_A2, '-.', lw=4, alpha=.8, color=color_cycle[1], label=r'$ASTEC_2$')\n",
    "ax.plot(X_nb_c_A2[0], Y_nb_c_A2[0], 'o', ms=15, alpha=.8, color=color_cycle[1])\n",
    "ax.plot(X_nb_c_A2[-1], Y_nb_c_A2[-1], 'o', ms=15, alpha=.8, color=color_cycle[1])\n",
    "\n",
    "ax.plot(X_nb_c_B, Y_nb_c_B, '-.', lw=4, alpha=.8, color=color_cycle[6], label=r'BioEmergences')\n",
    "ax.plot(X_nb_c_B[0], Y_nb_c_B[0], 'o', ms=15, alpha=.8, color=color_cycle[6])\n",
    "ax.plot(X_nb_c_B[-1], Y_nb_c_B[-1], 'o', ms=15, alpha=.8, color=color_cycle[6])\n",
    "\n",
    "ax.set_xlim(3.9, 9)\n",
    "ax.set_ylim(0, 900)\n",
    "ax.legend(fontsize=25)\n",
    "ax.tick_params(axis='both', labelsize=25)\n",
    "ax.set_xlabel('HPF', fontsize=30)\n",
    "ax.set_ylabel('#Cells', fontsize=30)\n",
    "fig.tight_layout()\n",
    "fig.savefig(p_to_figures + 'nb_cells_vs_time.pdf')"
   ]
  },
  {
   "cell_type": "code",
   "execution_count": null,
   "metadata": {
    "collapsed": false,
    "deletable": true,
    "editable": true
   },
   "outputs": [],
   "source": [
    "fig = plt.figure(figsize=(10, 8))\n",
    "ax = fig.add_subplot(111)\n",
    "\n",
    "ax.plot(X_cons_N_50, np.array(Y_cons_N_50), '-o', ms=15, lw=4, color=color_cycle[-2], label='>50% cons. neigh.')\n",
    "ax.plot(X_cons_N_80, np.array(Y_cons_N_80), '-o', ms=15, lw=4, color=color_cycle[-1], label='>80% cons. neigh.')\n",
    "\n",
    "ax.set_xlim(6.9, 10.1)\n",
    "ax.set_ylim(50, 102)\n",
    "ax.set_xticks(range(7, 11))\n",
    "# ax.set_yticks(range(7, 11))\n",
    "ax.legend(fontsize=25)\n",
    "ax.tick_params(axis='both', labelsize=25)\n",
    "ax.set_xlabel('Cell generation', fontsize=30)\n",
    "ax.set_ylabel('Percentage of cells', fontsize=30)\n",
    "fig.tight_layout()\n",
    "fig.savefig(p_to_figures + 'N_cons.pdf')"
   ]
  },
  {
   "cell_type": "code",
   "execution_count": null,
   "metadata": {
    "collapsed": false,
    "deletable": true,
    "editable": true
   },
   "outputs": [],
   "source": [
    "(V_A2_LR) == (LS_A2_LR)"
   ]
  },
  {
   "cell_type": "markdown",
   "metadata": {
    "deletable": true,
    "editable": true
   },
   "source": [
    "## Performs a hierarchical clustering on the lineage tree distances"
   ]
  },
  {
   "cell_type": "code",
   "execution_count": null,
   "metadata": {
    "collapsed": false,
    "deletable": true,
    "editable": true,
    "scrolled": false
   },
   "outputs": [],
   "source": [
    "Y, corres, corres_inv=build_distance_matrix(tree_distances)\n",
    "perform_and_plot_dendrogram(Y, corres, corres_inv, fates3, ColorMap, names,\n",
    "                            method='ward', saving_folder=p_to_figures, \n",
    "                            distance_name='Division pattern clustering',\n",
    "                            color_threshold=100)"
   ]
  },
  {
   "cell_type": "markdown",
   "metadata": {
    "deletable": true,
    "editable": true
   },
   "source": [
    "# Lineage Tree clustering of _C. elegans_ embryo"
   ]
  },
  {
   "cell_type": "code",
   "execution_count": null,
   "metadata": {
    "collapsed": true,
    "deletable": true,
    "editable": true
   },
   "outputs": [],
   "source": [
    "#Creation of the folder where the figures will be outputed\n",
    "path_to_data = './Data/'\n",
    "path_to_figures = './Outputs_figures/'\n",
    "\n",
    "p_to_figures = path_to_figures + 'lin_comparison_c.elegans/'\n",
    "if not os.path.exists(p_to_figures):\n",
    "    os.makedirs(p_to_figures)\n",
    "    \n",
    "#Loading of the lineage tree distances\n",
    "f=open(path_to_data+'/C.elegans/sim_nv_c_elegans_26.pkl')\n",
    "tree_distances_26=pkl.load(f)\n",
    "f.close()\n",
    "\n",
    "f=open(path_to_data+'/C.elegans/sim_nv_c_elegans_51.pkl')\n",
    "tree_distances_51=pkl.load(f)\n",
    "f.close()\n",
    "\n",
    "f=open(path_to_data+'/C.elegans/c.elegans-lin-tree.pkl')\n",
    "lin_tree_c, names_c, time_c, fates_c=pkl.load(f)\n",
    "f.close()\n"
   ]
  },
  {
   "cell_type": "code",
   "execution_count": null,
   "metadata": {
    "collapsed": false,
    "deletable": true,
    "editable": true
   },
   "outputs": [],
   "source": [
    "Y, corres, corres_inv=build_distance_matrix(tree_distances_26, size = 26)\n",
    "perform_and_plot_dendrogram_celegans(Y, corres, corres_inv, fates_c, ColorMap, names_c,\n",
    "                            method='ward', saving_folder=p_to_figures, \n",
    "                            distance_name='Division pattern clustering',\n",
    "                            color_threshold=100, name_format = True, prefix = '26')"
   ]
  },
  {
   "cell_type": "code",
   "execution_count": null,
   "metadata": {
    "collapsed": false,
    "deletable": true,
    "editable": true,
    "scrolled": true
   },
   "outputs": [],
   "source": [
    "Y, corres, corres_inv=build_distance_matrix(tree_distances_51, size = 51)\n",
    "perform_and_plot_dendrogram_celegans(Y, corres, corres_inv, fates_c, ColorMap, names_c,\n",
    "                            method='ward', saving_folder=p_to_figures, \n",
    "                            distance_name='Division pattern clustering',\n",
    "                            color_threshold=100, name_format = True, prefix = '51')"
   ]
  },
  {
   "cell_type": "markdown",
   "metadata": {
    "deletable": true,
    "editable": true
   },
   "source": [
    "# Analysis of cell division that give rise to different daughters"
   ]
  },
  {
   "cell_type": "code",
   "execution_count": null,
   "metadata": {
    "collapsed": true,
    "deletable": true,
    "editable": true
   },
   "outputs": [],
   "source": [
    "#Creation of the folder where the figures will be outputed\n",
    "p_to_figures = path_to_figures + 'Assy_div/'\n",
    "if not os.path.exists(p_to_figures):\n",
    "    os.makedirs(p_to_figures)"
   ]
  },
  {
   "cell_type": "markdown",
   "metadata": {
    "deletable": true,
    "editable": true
   },
   "source": [
    "For this part we want to take the most of the segmentation that we have in hand. To do so we decided to extend one division backward our lineage tree. This is what the `generate_32_cell_stage` function does.\n",
    "\n",
    "We therefore add an artificial mother to all sister cells from the first time point of the movie.\n",
    "\n",
    "These artificial mothers have as volume the sum of the volume of their two sisters.\n",
    "\n",
    "They have as lineage tree distance the distance between the two sisters (this distance is stored in Data/sim_LR.pkl that were used in the \"Pairwise comparison between lineage trees\".).\n",
    "\n",
    "More over the dictionary that contains the distances between sister lineage trees is not directly given by the `loading_data` function. Hence the use of\n",
    "```python\n",
    "sim_nv = properties['Sim no vol'][0]\n",
    "```\n",
    "\n",
    "`sim_nv` dictionary maps a cell id to the lineage tree distance to its sister as described in the article:\n",
    "```python\n",
    "sim_nv = {cell_id(int): distance(float), ...}\n",
    "```\n",
    "More over if a cell `c` is about to divide, ie\n",
    "```python\n",
    "len(lin_tree[c]) == 2\n",
    "```\n",
    "then\n",
    "```python\n",
    "sim_nv[c] == sim_nv[lin_tree[c][0]] == sim_nv[lin_tree[c][1]]\n",
    "```\n",
    "(this is a remnant of other uses)"
   ]
  },
  {
   "cell_type": "code",
   "execution_count": null,
   "metadata": {
    "collapsed": true,
    "deletable": true,
    "editable": true
   },
   "outputs": [],
   "source": [
    "f=open(path_to_data+'sim_LR.pkl')\n",
    "sim_tree = pkl.load(f)\n",
    "f.close()\n",
    "\n",
    "# dictionary of the distances between sister lineage trees\n",
    "sim_nv = properties['Sim no vol'][0]\n",
    "\n",
    "cells = [k for k in lin_tree.keys() if k/10**4==1]\n",
    "for c in cells:\n",
    "    vol[c] = vol[lin_tree[c][0]]\n",
    "\n",
    "new_lin_tree, new_names, new_vol, new_sim_nv = generate_32_cell_stage(lin_tree, names,\n",
    "                                                                      inv_lin_tree, sim_tree, sim_nv, vol)\n",
    "\n",
    "new_inv_lin_tree={ v : k for k, values in new_lin_tree.iteritems() for v in values }"
   ]
  },
  {
   "cell_type": "markdown",
   "metadata": {
    "deletable": true,
    "editable": true
   },
   "source": [
    "In order to build the following plots, cell divisions events are first cherry picked and then are classified twice (once for each figure).\n",
    "\n",
    "The cherry pick is done the same way as it is in the cell-cell interation model, all cell division event is represented by its mother cell. The mother cells that are choose are the ones in their $8^{th}$ zygotic cell-cycle or before.\n",
    "\n",
    "Then, two groups are built by the first classification, \"Known specification events\" (K) and \"No known specification events\" (NK). This classification relies on manual annotation of cell division events known to end in cell specification events (from the litterature):\n",
    "```python\n",
    "cells_with_spec = ['a6.2', 'a6.3', 'a6.4', 'a6.7', 'b6.2', 'b6.4', 'b6.3',\n",
    "                   'a7.8', 'a7.9', 'a7.10', 'a7.13', 'b7.3', 'b7.9', 'b7.10',\n",
    "                   'a8.7', 'a8.8', 'a8.17', 'a8.19', 'a8.25', 'a8.16', 'a8.15']\n",
    "```\n",
    "\n",
    "Finally four groups are built by the second figure. Those groups are the cross product of the two following set of two groups:\n",
    "- \"No expected cell specification\" (NS) and \"Expected cell specification\" (S)\n",
    "- \"Equal division\" (E) and \"Unequal division\" (U)\n",
    "\n",
    "A cell division event is in is in (NS) if the two daugthers have lineage distance smaller than $0.1$ and their fates according to ```fates3``` are determined and identical. The division event is classified as (S) otherwise.\n",
    "\n",
    "A cell division event is in is in (E) if the volume ratio between the two sister cells is under $1.3$. The cell division event is classified (U) otherwise"
   ]
  },
  {
   "cell_type": "code",
   "execution_count": null,
   "metadata": {
    "collapsed": true,
    "deletable": true,
    "editable": true
   },
   "outputs": [],
   "source": [
    "to_consider = range(13, 17) + [29, 30] + range(33, 41) + range(49, 53)\n",
    "to_consider = range(7, 9) + [15] + range(17, 21) + range(25, 27)\n",
    "def in_it(c, t):\n",
    "    n = names.get(c, '12345678')\n",
    "    return (n[:2] == 'a8') and (int(n[-5:-1]) in to_consider)\n",
    "\n",
    "cells_NP = [c for c in lin_tree.iterkeys() if in_it(c, 0)]\n",
    "\n",
    "sister_vol_diff = []\n",
    "sister_lifespan_diff = []\n",
    "sister_lin_tree_diff = []\n",
    "equal_div = []\n",
    "unequal_div = []\n",
    "lin_dist_values_to_find = {}\n",
    "lin_dist_values_NP = {}\n",
    "lin_dist_values_not_to_find = {}\n",
    "volume_to_find = {}\n",
    "volume_not_to_find = {}\n",
    "life_span_to_find = {}\n",
    "life_span_not_to_find = {}\n",
    "cells_with_spec = ['a6.2', 'a6.3', 'a6.4', 'a6.7', 'b6.2', 'b6.4', 'b6.3',\n",
    "                   'a7.8', 'a7.9', 'a7.10', 'a7.13', 'b7.3', 'b7.9', 'b7.10',\n",
    "                   'a8.7', 'a8.8', 'a8.17', 'a8.19', 'a8.25', 'a8.16', 'a8.15']\n",
    "cells_with_spec_NP = ['a6.2', 'a6.4', 'a6.7', 'a7.8', 'a7.9', 'a7.10', 'a7.13', 'b7.10',\n",
    "                   'a8.7', 'a8.8', 'a8.17', 'a8.19', 'a8.25', 'a8.16', 'a8.15']\n",
    "cells_to_find_induction = ['a6.2', 'a6.3', 'a6.4', 'a6.7', 'b6.2', 'b6.3', 'b6.4',\n",
    "                           'a7.8', 'a7.9', 'a7.10', 'a7.13', 'b7.3', 'b7.9', 'b7.10',\n",
    "                           'a8.7', 'a8.8', 'a8.17', 'a8.19', 'a8.25',\n",
    "                           'a8.15', 'a8.16']\n",
    "th_lin_dist = .1\n",
    "th_vol = 1.25\n",
    "th_ls = 1.1\n",
    "\n",
    "# Cherry picking\n",
    "z_c_end = 9\n",
    "time_end = 180\n",
    "# z_c_end = np.inf\n",
    "# time_end = np.inf\n",
    "interest_cells=[c for c in new_lin_tree.keys() if (c/10**4<time_end and\n",
    "                                                   len(new_lin_tree[c])==2 and\n",
    "                                                   int(new_names[new_lin_tree[c][0]].split('.')[0][1:])<=z_c_end)]\n",
    "\n",
    "# Right-left gathering\n",
    "lin_tree_ratio = {}\n",
    "volume_ratio = {}\n",
    "life_span_ratio = {}\n",
    "couples=[]\n",
    "ls_v = []\n",
    "for c in interest_cells:\n",
    "    if new_names[c][-1] == '_':\n",
    "        for ci in interest_cells:\n",
    "            if new_names[c][:-1] == new_names[ci][:-1] and c!=ci:\n",
    "                couples.append((c, ci))           \n",
    "for c1, c2 in couples:\n",
    "    mean_nv=np.mean([new_sim_nv[c1], new_sim_nv[c2]])\n",
    "    ratio1=get_max_vol(c1, new_vol, new_lin_tree)/get_min_vol(c1, new_vol, new_lin_tree)\n",
    "    ratio2=get_max_vol(c2, new_vol, new_lin_tree)/get_min_vol(c2, new_vol, new_lin_tree)\n",
    "    mean_ratio=np.mean([ratio1, ratio2])\n",
    "    tmp = sorted(get_life_span(new_lin_tree[c1], new_lin_tree))\n",
    "    lifespan1 = np.float(tmp[1])/tmp[0]\n",
    "    tmp = sorted(get_life_span(new_lin_tree[c2], new_lin_tree))\n",
    "    lifespan2 = np.float(tmp[1])/tmp[0]\n",
    "    lifespan = np.mean([lifespan1, lifespan2])\n",
    "    lin_tree_ratio[short_name(new_names[c1])] = mean_nv\n",
    "    volume_ratio[short_name(new_names[c1])] = mean_ratio\n",
    "    life_span_ratio[short_name(new_names[c1])] = lifespan\n",
    "    if short_name(new_names[c1]) in cells_with_spec:\n",
    "        if short_name(new_names[c1]) in cells_with_spec_NP:\n",
    "            lin_dist_values_NP[c1] = mean_nv\n",
    "        else:\n",
    "            lin_dist_values_to_find[new_names[c1]] = mean_nv # cell division event in (K)\n",
    "            life_span_to_find[new_names[c1]] = lifespan # cell division event in (K)\n",
    "            volume_to_find[new_names[c1]] = mean_ratio # cell division event in (K)\n",
    "    else:\n",
    "        lin_dist_values_not_to_find[new_names[c1]] = mean_nv # cell division event in (NK)\n",
    "        life_span_not_to_find[new_names[c1]] = lifespan # cell division event in (NK)\n",
    "        volume_not_to_find[new_names[c1]] = mean_ratio # cell division event in (NK)\n",
    "    \n",
    "    \n",
    "    if mean_nv < th_lin_dist and fates3.get(new_lin_tree[c1][0], '1') == fates3.get(new_lin_tree[c1][1], '2'):\n",
    "        if mean_ratio < th_vol:\n",
    "            equal_div += [0] # cell division event in (NS) + (E)\n",
    "        else:\n",
    "            unequal_div += [1] # cell division event in (NS) + (U)\n",
    "    else:\n",
    "        if mean_ratio < th_vol:\n",
    "            equal_div += [3] # cell division event in (S) + (E)\n",
    "        else:\n",
    "            unequal_div += [4] # cell division event in (S) + (U)\n",
    "    if mean_ratio > th_vol:\n",
    "        sister_vol_diff += [short_name(new_names[c1])]\n",
    "    if mean_nv > th_lin_dist:\n",
    "        sister_lin_tree_diff += [short_name(new_names[c1])]\n",
    "    if lifespan > th_ls:\n",
    "        sister_lifespan_diff += [short_name(new_names[c1])]\n",
    "    ls_v.append(lifespan)"
   ]
  },
  {
   "cell_type": "code",
   "execution_count": null,
   "metadata": {
    "collapsed": true,
    "deletable": true,
    "editable": true
   },
   "outputs": [],
   "source": [
    "set1 = set(sister_lifespan_diff)\n",
    "set2 = set(sister_lin_tree_diff)\n",
    "set3 = set(sister_vol_diff)\n",
    "all_cells = set(lin_tree.keys()).union([vi for v in lin_tree.values() for vi in v])\n",
    "\n",
    "vol_cells = []\n",
    "division_category = {}\n",
    "for c in all_cells:\n",
    "    in_ = False\n",
    "    division_category[c] = []\n",
    "    if get_mother_names(names[c]) in set1:\n",
    "        division_category.setdefault(c, []).append(0)\n",
    "        in_ = True\n",
    "    if get_mother_names(names[c]) in set2:\n",
    "        division_category.setdefault(c, []).append(1)\n",
    "        in_ = True\n",
    "    if get_mother_names(names[c]) in set3:\n",
    "        division_category.setdefault(c, []).append(2)\n",
    "        in_ = True\n",
    "        vol_cells += [get_mother_names(names[c])]\n",
    "        \n",
    "division_category_num = {}\n",
    "for c, v in division_category.iteritems():\n",
    "    division_category_num[c] = 0\n",
    "    for n in v:\n",
    "        division_category_num[c] += 2**n"
   ]
  },
  {
   "cell_type": "code",
   "execution_count": null,
   "metadata": {
    "collapsed": false,
    "deletable": true,
    "editable": true
   },
   "outputs": [],
   "source": [
    "f = open('vol_ratio.csv', 'w')\n",
    "\n",
    "for c in sorted(set(vol_cells), cmp = name_comparison):\n",
    "    z_c = int(c.split('.')[0][1:])\n",
    "    id_ = int(c.split('.')[1])\n",
    "    if id_ <= 2**(z_c-3)/2:\n",
    "        c_name = c.upper()\n",
    "    else:\n",
    "        c_name = c\n",
    "    f.write('%s, %.3f\\n'%(c_name, volume_ratio[c]))\n",
    "f.close()\n",
    "print 'lifespan diff:', len(set1), 'lin tree diff:', len(set2), 'vol diff:', len(set3)\n",
    "print len(set1.union(set2).union(set3))\n",
    "print len(set1.intersection(set2).intersection(set3))\n",
    "len([k for k in lin_tree.values() if len(k) == 2])"
   ]
  },
  {
   "cell_type": "code",
   "execution_count": null,
   "metadata": {
    "collapsed": false,
    "deletable": true,
    "editable": true
   },
   "outputs": [],
   "source": [
    "fig = plt.figure(figsize=(10, 6))\n",
    "ax = fig.add_subplot(111)\n",
    "ax.hist([lin_dist_values_NP.values(),\n",
    "         lin_dist_values_to_find.values(),\n",
    "         lin_dist_values_not_to_find.values()], histtype = 'barstacked', lw = 3,\n",
    "        color = ['r', 'c', 'w'], range = (0, .5), bins=10, align = 'mid', edgecolor='k')\n",
    "ax.legend([\"Neural Plate cells\", 'Known non-neural\\nfate restriction events',\n",
    "           'No known fate\\nrestriction events'], fontsize = 30)\n",
    "ax.set_xlabel('Pairwise lineage tree distance', fontsize = 35)\n",
    "ax.set_xticks(np.arange(0, .7, .1))\n",
    "ax.set_xticklabels(list(np.arange(0, 60, 10)) + ['60%'], fontsize = 30)\n",
    "ax.set_yticks(np.arange(5, 46, 10))\n",
    "ax.set_yticklabels(np.arange(5, 46, 10), fontsize = 30)\n",
    "fig.tight_layout()\n",
    "plt.savefig(p_to_figures + 'sister_lineage_distances.pdf')"
   ]
  },
  {
   "cell_type": "code",
   "execution_count": null,
   "metadata": {
    "collapsed": false,
    "deletable": true,
    "editable": true
   },
   "outputs": [],
   "source": [
    "fig = plt.figure(figsize=(10, 8))\n",
    "ax = fig.add_subplot(111)\n",
    "\n",
    "ax.plot([th_lin_dist, th_lin_dist], [1, 100], 'm--', lw = 2, alpha = .7)\n",
    "ax.plot([0, 100], [th_vol, th_vol], 'm--', lw = 2, alpha = .7)\n",
    "for c1, c2 in couples:\n",
    "    mean_nv=np.mean([new_sim_nv[c1], new_sim_nv[c2]])\n",
    "    ratio1=get_max_vol(c1, new_vol, new_lin_tree)/get_min_vol(c1, new_vol, new_lin_tree)\n",
    "    ratio2=get_max_vol(c2, new_vol, new_lin_tree)/get_min_vol(c2, new_vol, new_lin_tree)\n",
    "    mean_ratio=np.mean([ratio1, ratio2])\n",
    "    if short_name(new_names[c1]) in cells_with_spec:\n",
    "        ax.plot(mean_nv, mean_ratio, 'co', ms = 10, alpha = .7, mec = 'k')\n",
    "    else:\n",
    "        ax.plot(mean_nv, mean_ratio, 'wo', ms = 10, alpha = .7, mec = 'k')\n",
    "\n",
    "ax.tick_params(axis='x', which='both', labelsize=20)\n",
    "ax.set_xticks(np.arange(.1, .45, .1))\n",
    "ax.set_xlim((0, .45))\n",
    "ax.set_ylim((1, 14))\n",
    "ax.semilogy()\n",
    "ax.set_yticks(range(1, 11) + [13])\n",
    "ax.set_yticklabels(range(1, 11) + [13])\n",
    "ax.tick_params(axis='y', which='both', labelsize=20)\n",
    "ax.set_xlabel('Lineage tree distance', fontsize=25)\n",
    "ax.set_ylabel('Sister cell volume ratio', fontsize=25)\n",
    "fig.tight_layout()\n",
    "plt.savefig(p_to_figures + 'dist_vs_vol_ratio.pdf')"
   ]
  },
  {
   "cell_type": "code",
   "execution_count": null,
   "metadata": {
    "collapsed": false,
    "deletable": true,
    "editable": true
   },
   "outputs": [],
   "source": [
    "import matplotlib\n",
    "from matplotlib_venn import venn3\n",
    "set1 = set(sister_lifespan_diff)\n",
    "set2 = set(sister_lin_tree_diff)\n",
    "set3 = set(sister_vol_diff)\n",
    "\n",
    "#### TURN ON TO CHANGE THE SIZE OF THE FONT OF THE VENN DIAGRAM\n",
    "# font = {'family' : 'normal',\n",
    "#           'weight' : 'normal',\n",
    "#           'size'   : 40}\n",
    "# matplotlib.rc('font', **font)\n",
    "fig = plt.figure(figsize=(12, 8))\n",
    "ax = fig.add_subplot(111)\n",
    "venn3([set1, set2, set3], ('Sister lifespan\\n'+r'sym $>%.2f$'%th_ls, \n",
    "                           'Sister lineage\\n'+r'distance $>%.2f$'%th_lin_dist,\n",
    "                           'Sister volume inequality $>%.2f$'%th_vol),\n",
    "                           ax = ax, set_colors=('c', 'lightgreen', 'b'))\n",
    "\n",
    "fig.tight_layout()\n",
    "plt.savefig(p_to_figures + 'venn_diagramm_%.2f_%.2f_%.2f.pdf'%(th_ls, th_lin_dist, th_vol))"
   ]
  },
  {
   "cell_type": "markdown",
   "metadata": {
    "deletable": true,
    "editable": true
   },
   "source": [
    "## Write a LaTeX readable table version of Supp. Table 1"
   ]
  },
  {
   "cell_type": "code",
   "execution_count": null,
   "metadata": {
    "collapsed": true,
    "deletable": true,
    "editable": true,
    "scrolled": false
   },
   "outputs": [],
   "source": [
    "c_fates = {}\n",
    "for c1, c2 in couples:\n",
    "    tmp_fate = fates3.get(c1, 'undeter')\n",
    "    if not c1 in fates3:\n",
    "        s1, s2 = new_lin_tree[c1]\n",
    "        if s1 in fates3 and fates3.get(s1, 'undeter') == fates3.get(s2, 'undeter'):\n",
    "            tmp_fate = fates3[s1]\n",
    "    c_fates[short_name(new_names[c1])] = tmp_fate\n",
    "\n",
    "set1 = set(sister_lifespan_diff)\n",
    "set2 = set(sister_lin_tree_diff)\n",
    "set3 = set(sister_vol_diff)\n",
    "set1.union(set2).union(set3), len(set1.union(set2).union(set3))\n",
    "tmp = set1.intersection(set2).intersection(set3)\n",
    "t=26\n",
    "cells = [c for c in lin_tree.keys() if c/10**4 == t \n",
    "         if short_name(names[c]) in tmp]\n",
    "\n",
    "nb = 0\n",
    "f = open('latex-table.tex', 'w')\n",
    "for c in sorted(set1.union(set2).union(set3), cmp = name_comparison):\n",
    "        nb +=1\n",
    "        z_c = int(c[1])\n",
    "        id_ = int(c.split('.')[1])\n",
    "        if id_ <= 2**(z_c-3)/2:\n",
    "            c_name = c.upper()\n",
    "        else:\n",
    "            c_name = c\n",
    "        d1, d2 = get_daughters(c)\n",
    "        f1, f2 = c_fates.get(d1, c_fates.get(c, 'undeter')), c_fates.get(d2, c_fates.get(c, 'undeter'))\n",
    "        f1 = f1.replace('Mesoderm ', '')\n",
    "        f2 = f2.replace('Mesoderm ', '')\n",
    "        f.write('%s & %s & %s &'%(c_name, f1, f2))\n",
    "        if .1 < lin_tree_ratio[c]:\n",
    "            f.write('\\cellcolor{red!25}%.2f &'%lin_tree_ratio[c])\n",
    "        else:\n",
    "            f.write('\\cellcolor{green!25}%.2f &'%lin_tree_ratio[c])\n",
    "        if 1.25 < volume_ratio[c]:\n",
    "            f.write('\\cellcolor{red!25}%.2f &'%volume_ratio[c])\n",
    "        else:\n",
    "            f.write('\\cellcolor{green!25}%.2f &'%volume_ratio[c])\n",
    "        if 1.1 < life_span_ratio[c]:\n",
    "            f.write('\\cellcolor{red!25}%.2f\\\\\\\\\\n\\hline\\n'%life_span_ratio[c])\n",
    "        else:\n",
    "            f.write('\\cellcolor{green!25}%.2f\\\\\\\\\\n\\hline\\n'%life_span_ratio[c])\n",
    "f.close()"
   ]
  },
  {
   "cell_type": "code",
   "execution_count": null,
   "metadata": {
    "collapsed": true,
    "deletable": true,
    "editable": true
   },
   "outputs": [],
   "source": [
    "lifespan = {}\n",
    "volume_ratio = {}\n",
    "lin_dist = {}\n",
    "# Cherry picking\n",
    "z_c_end = 100\n",
    "time_end = 180\n",
    "interest_cells=[c for c in lin_tree.keys() if (c/10**4<time_end and\n",
    "                                                   len(lin_tree[c])==2 and\n",
    "                                                   int(names[lin_tree[c][0]].split('.')[0][1:])<=z_c_end)]\n",
    "\n",
    "# Right-left gathering\n",
    "couples=[]\n",
    "ls_v = []\n",
    "for c in interest_cells:\n",
    "    if names[c][-1] == '_':\n",
    "        for ci in interest_cells:\n",
    "            if names[c][:-1] == names[ci][:-1] and c!=ci:\n",
    "                couples.append((c, ci))           \n",
    "for c1, c2 in couples:\n",
    "    lin_dist[lin_tree[c1][0]] = sim_nv[c1]\n",
    "    lin_dist[lin_tree[c1][1]] = sim_nv[c1]\n",
    "    lin_dist[lin_tree[c2][0]] = sim_nv[c2]\n",
    "    lin_dist[lin_tree[c2][1]] = sim_nv[c2]\n",
    "    \n",
    "    tmp = get_life_span(lin_tree[c1], lin_tree)\n",
    "    lifespan[lin_tree[c1][0]] = float(tmp[0])/tmp[1]\n",
    "    lifespan[lin_tree[c1][1]] = float(tmp[1])/tmp[0]\n",
    "    tmp = get_life_span(lin_tree[c2], lin_tree)\n",
    "    lifespan[lin_tree[c2][0]] = float(tmp[0])/tmp[1]\n",
    "    lifespan[lin_tree[c2][1]] = float(tmp[1])/tmp[0]\n",
    "    \n",
    "    v1, v2 = get_symetric_volumes(lin_tree[c1], vol, lin_tree)\n",
    "    volume_ratio[lin_tree[c1][0]] = (v1) / v2\n",
    "    volume_ratio[lin_tree[c1][1]] = (v2) / v1\n",
    "    v1, v2 = get_symetric_volumes(lin_tree[c2], vol, lin_tree)\n",
    "    volume_ratio[lin_tree[c2][0]] = (v1) / v2\n",
    "    volume_ratio[lin_tree[c2][1]] = (v2) / v1"
   ]
  },
  {
   "cell_type": "code",
   "execution_count": null,
   "metadata": {
    "collapsed": false,
    "deletable": true,
    "editable": true
   },
   "outputs": [],
   "source": [
    "range_vol = [1, 2, 4, 10]\n",
    "range_ls = [1, 1.5, 2, 3, 5]\n",
    "fig = plt.figure(figsize=(7, 8))\n",
    "ax = fig.add_subplot(111)\n",
    "ax.hist(np.log10(volume_ratio.values()), bins=17, range=(0, 1.3), align = 'mid')\n",
    "ax.plot(np.log10([1.25, 1.25]), [0, 100], 'r--', lw = 3, label = 'Possible fate\\nrestriction event')\n",
    "ax.legend(fontsize=20)\n",
    "ax.set_yticks(range(20, 81, 20))\n",
    "ax.set_ylim(0, 70)\n",
    "ax.set_xlabel('Volume ratio (log scale)', fontsize = 30)\n",
    "ax.set_xticks(np.log10(range_vol))\n",
    "ax.set_xticklabels(range_vol)\n",
    "ax.set_xlim(0, 1.3)\n",
    "ax.set_ylabel('#sister cells', fontsize = 30)\n",
    "ax.tick_params(axis='both', which='both', labelsize=20)\n",
    "fig.tight_layout()\n",
    "plt.savefig(p_to_figures + 'volume_ratio.pdf')\n",
    "\n",
    "fig = plt.figure(figsize=(7, 8))\n",
    "ax = fig.add_subplot(111)\n",
    "ax.hist(np.log10(life_span_ratio.values()), bins=17, range=(0, np.log10(5)), align = 'mid')\n",
    "ax.plot(np.log10([1.1, 1.1]), [0, 100], 'r--', lw = 3, label = 'Possible fate\\nrestriction event')\n",
    "ax.legend(fontsize=20)\n",
    "ax.set_ylim(0, 80)\n",
    "ax.set_xlabel('Lifespan ratio (log scale)', fontsize = 30)\n",
    "ax.set_xticks(np.log10(range_ls))\n",
    "ax.set_xticklabels(range_ls)\n",
    "ax.set_xlim(0, np.log10(5))\n",
    "ax.set_yticks(range(20, 81, 20))\n",
    "ax.set_ylabel('#sister cells', fontsize = 30)\n",
    "ax.tick_params(axis='both', which='both', labelsize=20)\n",
    "fig.tight_layout()\n",
    "plt.savefig(p_to_figures + 'lifespan_ratio.pdf')\n"
   ]
  },
  {
   "cell_type": "code",
   "execution_count": null,
   "metadata": {
    "collapsed": true,
    "deletable": true,
    "editable": true
   },
   "outputs": [],
   "source": []
>>>>>>> b209aa4fd9392c84b7e4c59190dea6f166c4a6a5
  }
 ],
 "metadata": {
  "kernelspec": {
   "display_name": "Python 2",
   "language": "python",
   "name": "python2"
  },
  "language_info": {
   "codemirror_mode": {
    "name": "ipython",
    "version": 2
   },
   "file_extension": ".py",
   "mimetype": "text/x-python",
   "name": "python",
   "nbconvert_exporter": "python",
   "pygments_lexer": "ipython2",
   "version": "2.7.11"
  }
 },
 "nbformat": 4,
<<<<<<< HEAD
 "nbformat_minor": 0
=======
 "nbformat_minor": 1
>>>>>>> b209aa4fd9392c84b7e4c59190dea6f166c4a6a5
}
